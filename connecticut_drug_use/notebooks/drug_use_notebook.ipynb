{
  "cells": [
    {
      "metadata": {
        "collapsed": true,
        "_cell_guid": "610768e2-7cbf-4a29-af9a-213c03860542",
        "_uuid": "55db52285cbb0deafad09cbfc12becafea6b1179",
        "trusted": false
      },
      "cell_type": "code",
      "source": "",
      "execution_count": null,
      "outputs": []
    },
    {
      "metadata": {
        "_uuid": "d1e9093709822c16a797814090db0ff40e3cc40c",
        "_kg_hide-input": true,
        "_cell_guid": "787316ee-22ec-4690-9f90-0b68998e9039",
        "_kg_hide-output": false,
        "collapsed": true,
        "trusted": false
      },
      "cell_type": "code",
      "source": "import os\nimport folium\nimport pandas as pd\nimport numpy as np\nimport missingno as mn\nimport matplotlib.pyplot as plt\nimport seaborn as sns\nimport warnings\nfrom sklearn.linear_model import LinearRegression\n%matplotlib inline\nwarnings.filterwarnings('ignore')",
      "execution_count": null,
      "outputs": []
    },
    {
      "metadata": {
        "_uuid": "fa42d01838ab1c0b1b655586a908f3faf2370da4",
        "_cell_guid": "50711bdd-9f79-4915-96af-63bb8813e6bd"
      },
      "cell_type": "markdown",
      "source": "![](https://upload.wikimedia.org/wikipedia/commons/5/51/Fentanyl-2D-skeletal-A.png)\n\n# Drug deaths in Connecticut: A story of growing opiod abuse\n\nThis kernel explores the Kaggle data set [Drug Related Deaths](https://www.kaggle.com/adarsh4u/drug-related-deaths), which appears to be for accidental deaths in the state of Connecticut over the last 6 years. \n\nDespite being a morbid topic, I think the trends and relationship's within its features are still very interesting. I attempt to look at the following visulisations:\n\n\n## Contents\n\n1. [Load and check data](#load)\n2. [Where do the most deaths occur](#where)\n3. [Deaths by drug type](#type)\n4. [Drug trends with time](#time)\n5. [Demographic trends](#demo)\n6. [Injury locations](#loc)\n7. [Conclusions](#conclusions)"
    },
    {
      "metadata": {
        "_uuid": "54cf5f797b56ae9206a333b5d44f69410de50566",
        "_cell_guid": "e97fb8ea-833c-4542-9f68-b16f7036a02f"
      },
      "cell_type": "markdown",
      "source": "### Load and check data <a name=\"load\"></a>\n\nThe data set is provided as a single .csv so straightforward to load."
    },
    {
      "metadata": {
        "collapsed": true,
        "_kg_hide-input": true,
        "_cell_guid": "03aa31fc-b80d-4370-b593-57814d5d554f",
        "_uuid": "7dc5e4941fd71d16d354a62a70a0a07d78518557",
        "trusted": false
      },
      "cell_type": "code",
      "source": "data_path = os.path.join(os.path.pardir, 'input', 'Accidental_Drug_Related_Deaths__2012-2017 (1).csv')\ndf = pd.read_csv(data_path)\ndf.columns = [x.lower().replace(' ', '_') for x in df.columns]  # standardise column names\ndf.head()",
      "execution_count": null,
      "outputs": []
    },
    {
      "metadata": {
        "_uuid": "fbc9f14600536b8c51c243d49ee8d3d4f9c56b75",
        "_cell_guid": "849e6b64-59f7-4b5d-aef0-4ed3c7aa6433"
      },
      "cell_type": "markdown",
      "source": "Process the drug columns into binary flags (1, 0) to make them more readable and much more usable. Unfortunately this data is quite dirty and the positive flags seem to take a number of forms (e.g. 'Y', 'y', ' Y') or can inlcude some extra data. I will only include the obvious positive flags for now.\n\nAlso, create an extra single column (essentially un-pivot) of the drug type responsible for each death. This will make some visualisations much easier."
    },
    {
      "metadata": {
        "collapsed": true,
        "_cell_guid": "2626b66e-2682-4bff-9857-e3bdd528d305",
        "_uuid": "f0aca4588a73da0ea128df87d893043df88e84bc",
        "trusted": false
      },
      "cell_type": "code",
      "source": "drug_types = ['heroin', 'cocaine', 'fentanyl', 'oxycodone', 'oxymorphone', 'etoh',\n              'hydrocodone', 'benzodiazepine', 'methadone', 'amphet', 'tramad',\n               'morphine_(not_heroin)', 'any_opioid']\n\npositive_flag_types = ['Y', 'y', ' Y', '1']\n\ndf['drug_type'] = 'other'\nfor drug in drug_types:\n    df.loc[~df[drug].isin(positive_flag_types), drug] = 0\n    df.loc[df[drug].isin(positive_flag_types), drug] = 1\n    df[drug] = df[drug].astype(np.int8)\n    df.loc[df[drug] == 1, 'drug_type'] = drug",
      "execution_count": null,
      "outputs": []
    },
    {
      "metadata": {
        "_uuid": "7606890e863b9c09c0856bd94835e78b94bf0a07",
        "_cell_guid": "450c406b-961a-4e10-970b-5c2ef26151e6"
      },
      "cell_type": "markdown",
      "source": "Lets look at all the columns that are present, and at the same time how many null values they contain."
    },
    {
      "metadata": {
        "collapsed": true,
        "_cell_guid": "49606c86-3284-4622-bf94-b239084cbc52",
        "_uuid": "8181d3b6cf0f7fafe9a6bb0d0219720489c3890a",
        "trusted": false
      },
      "cell_type": "code",
      "source": "mn.matrix(df)",
      "execution_count": null,
      "outputs": []
    },
    {
      "metadata": {
        "_uuid": "c5d1b5b9579af000e3c4ef8d2a1545e253900787",
        "_cell_guid": "6d9fdf49-d24e-4384-8ce0-7e314b0ad200"
      },
      "cell_type": "markdown",
      "source": "After processing the drug columns above, there are few nulls there which is good as this will help with most of the analysis. Some of the less useful columns are *'amendedmannerofdeath'* and *'descriptionofinjury'*, so I may not be able to do much with them."
    },
    {
      "metadata": {
        "_uuid": "5814b24b1f20b181aa8616f2dde060e47005f698",
        "_cell_guid": "6350d2c2-9a02-444e-8671-ea9c04820b35"
      },
      "cell_type": "markdown",
      "source": "### Where do the deaths occur? <a name=\"where\"></a>\n\nUsefully, the *deathloc* columns contains latitude and longitude. This means we can use the excellent **folium** package to visualise where the deaths occur on a map.\n\n**Note** I have coloured the markers by the drug type, and you can click on a marker to show the type."
    },
    {
      "metadata": {
        "collapsed": true,
        "_cell_guid": "6d70d011-321e-4750-acbd-c5027dbcc1ad",
        "_uuid": "083a0c89e2783e72b85dc769ad554d387b25899f",
        "trusted": false
      },
      "cell_type": "code",
      "source": "df['deathloc_latitude'] = df['deathloc'].str.extract(r'(\\d+\\.\\d+)', expand=True).values.astype(np.float32)\ndf['deathloc_longitude'] = -df['deathloc'].str.split(' -').str[1].str[:-1].astype(np.float32)",
      "execution_count": null,
      "outputs": []
    },
    {
      "metadata": {
        "collapsed": true,
        "_cell_guid": "67547c2a-acc0-4f04-b76f-342e1f7907f4",
        "_uuid": "90a1ff8080e3d72aa56b9180f483ca92b745bee4",
        "trusted": false
      },
      "cell_type": "code",
      "source": "# Create map around the mean position\ncentral_position = [df['deathloc_latitude'].mean(), df['deathloc_longitude'].mean()]\nlocations_map = folium.Map(location=central_position, zoom_start = 9)\n\n# Colors for the different drug types\ni = 0\npal = ['red', 'blue', 'green', 'purple', 'orange', 'darkred', 'darkblue', 'darkgreen', 'cadetblue', \n       'darkpurple', 'pink', 'lightblue', 'lightgreen', 'gray', 'black', 'lightgray']\n\n# Add markers to the map according to their drug type\nfor drug in df['drug_type'].unique():\n    \n    drug_df = df[df['drug_type'] == drug]\n    \n    # Not interested in adding markers for 'other'\n    if drug == 'other':  \n        continue\n        \n    for case in drug_df.index[:30]:\n        folium.Marker([drug_df.loc[case, 'deathloc_latitude'], drug_df.loc[case, 'deathloc_longitude']],\n                       popup=drug_df.loc[case, 'drug_type'],\n                       icon=folium.Icon(color=pal[i], icon='circle', prefix='fa')\n                     ).add_to(locations_map)\n    i += 1\nlocations_map",
      "execution_count": null,
      "outputs": []
    },
    {
      "metadata": {
        "_uuid": "668127ee80a5dd7d5a0b0b2f9769a1cc2baf9a17",
        "_cell_guid": "b56d1da0-6701-472a-9645-f1618edef78b"
      },
      "cell_type": "markdown",
      "source": "The highest densities are unsurprisingly in the cities, and there doesn't seem to be any obvious trends in drug type by area."
    },
    {
      "metadata": {
        "_uuid": "c3989b1120ba35f553205619fa3a64b9154fe9d5",
        "_cell_guid": "dcc680fe-3de3-4fc8-8a4b-9b380fe5de63"
      },
      "cell_type": "markdown",
      "source": "### Deaths by drug type <a name=\"type\"></a>\n\nWhich drugs are the most damaging? Do a simple count over the whole data set to investigate."
    },
    {
      "metadata": {
        "collapsed": true,
        "_cell_guid": "d8c9d029-af81-45ea-92a5-9b4c9f8d4688",
        "_uuid": "eb4951df18f46789a6adfea5ccdaba72e2874b74",
        "trusted": false
      },
      "cell_type": "code",
      "source": "deaths_by_drug = df[drug_types].sum().sort_values(ascending=False)\nfig, ax = plt.subplots(1, 1, figsize=[7, 5])\nsns.barplot(x=deaths_by_drug, y=deaths_by_drug.index)\nax.set_xlabel('Total deaths over 6 years')\nax.set_title('Accidental deaths by drug type')\nplt.show()",
      "execution_count": null,
      "outputs": []
    },
    {
      "metadata": {
        "_uuid": "ff95e00858c81cb7899cbb0f4c2d9eb981030451",
        "_cell_guid": "e5ba4cdd-8cd5-42a0-916d-99e1a18c0057"
      },
      "cell_type": "markdown",
      "source": "Looks like heroin is responsible for the most accidental drug deaths in this data set, befitting its reputation as a deeply harmful substance. Fentanyl, another potent opiod, comes in second with cocaine coming in third presumably as a result of its widespread use."
    },
    {
      "metadata": {
        "_uuid": "d1ac51debc8e5e991576acce4212afc656ca0077",
        "_cell_guid": "0bbf429c-c957-4f65-baf9-144932edba66"
      },
      "cell_type": "markdown",
      "source": "### Drug trends with time <a name=\"time\"></a>"
    },
    {
      "metadata": {
        "_uuid": "a77d9c84a57f292bbc549c3f44da0dfb8bf48a33",
        "_cell_guid": "aa4728e9-8da9-4bed-b4c0-ca0b7827418a"
      },
      "cell_type": "markdown",
      "source": "First, make the date feature into a pandas datetime and extract some extra detail."
    },
    {
      "metadata": {
        "collapsed": true,
        "_cell_guid": "a393f9cd-577d-4fc9-bc42-8c1af5d07922",
        "_uuid": "3c8a8ec158e5c199e6b80d6978a4c5f1be54967e",
        "trusted": false
      },
      "cell_type": "code",
      "source": "df['date'] = pd.to_datetime(df['date'], infer_datetime_format=True)\ndf['year'] = df['date'].dt.year\ndf['year_month'] = df['date'].dt.to_period('M')",
      "execution_count": null,
      "outputs": []
    },
    {
      "metadata": {
        "_uuid": "c4b15135e8cebb17163d1a750921cea6020def39",
        "_cell_guid": "b1bef654-86b4-4bcc-b178-4d292fda44a2"
      },
      "cell_type": "markdown",
      "source": "So what does the general trend with time look like?"
    },
    {
      "metadata": {
        "collapsed": true,
        "_kg_hide-input": true,
        "_cell_guid": "5a7f366a-521a-414b-94ec-13115da1d811",
        "_uuid": "dabae522ef09d68b535007440c79db033d532785",
        "trusted": false
      },
      "cell_type": "code",
      "source": "annual_deaths = df.groupby('year_month')['date'].count()\n\nfig, ax = plt.subplots(1, 1, figsize=[10, 5])\nlr = LinearRegression().fit(pd.to_numeric(annual_deaths.index).values.reshape(-1, 1), \n                            annual_deaths.values.reshape(-1, 1))\ntrendline = lr.predict(pd.to_numeric(annual_deaths.index).values.reshape(-1, 1))\nannual_deaths.plot(ax=ax, marker='o', ls='-', alpha=.9, markersize=5, color='r', label='Monthly deaths')\nax.plot(annual_deaths.index, trendline, ls=':', color='k', label='Trendline')\nax.set_ylabel('Total deaths')\nax.set_xlabel('Time')\nax.set_title('Annual accidental drug deaths')\nax.legend()\nplt.show()",
      "execution_count": null,
      "outputs": []
    },
    {
      "metadata": {
        "_uuid": "bffec45c92afcf1f30d7bde563b202119d953a88",
        "_cell_guid": "a7d204bd-0143-4989-bb01-a563479a1cc9"
      },
      "cell_type": "markdown",
      "source": "So am alarming trend that indicates that accidental drug deaths doubled from 2013-2017. Lets dig a little deeper and see if there are any particular drug types driving this trend."
    },
    {
      "metadata": {
        "collapsed": true,
        "_cell_guid": "f37da79a-c7be-412d-9306-5d8ffa85e6f6",
        "_uuid": "bf88a26c6f5729cb8d1d3747bef5ff037f35e3f8",
        "trusted": false
      },
      "cell_type": "code",
      "source": "time_trends_by_drug = df.groupby(by=['year'])[drug_types].sum()\n\n#TODO ROTATE PLOT\nfig, ax = plt.subplots(1, 1, figsize=[17, 5])\ncmap = sns.diverging_palette(220, 10, as_cmap=True)\nsns.heatmap(data=time_trends_by_drug, square=True, cmap=cmap, center=0,\n            linewidths=.5, cbar_kws={\"shrink\": .7}, ax=ax)\nplt.show()",
      "execution_count": null,
      "outputs": []
    },
    {
      "metadata": {
        "_uuid": "3bd102d857911017221a03904021cd9d482bd71e",
        "_cell_guid": "d9e8be85-d3d9-4c6b-8734-451a096afa7a"
      },
      "cell_type": "markdown",
      "source": "This plot reveals that heroin and cocaine are the main death drivers and have generally been steadily getting worse with time. Fentanyl, which has been grabbing a lot of headlines recently, has clearly exploded from nowhere to become 2017's biggest cause of accidental death."
    },
    {
      "metadata": {
        "_uuid": "63bb2e74f25d199ac74aaf2b1bd604cf0f7a4846",
        "_cell_guid": "a30c1178-9159-4056-bc51-06b4e609c435"
      },
      "cell_type": "markdown",
      "source": "### Demographics of deceased <a name=\"demo\"></a>\n\nThe data set contains some demographic information on the deceased, in particular:\n\n- Age\n- Race\n- Gender\n\nIt will probably be interesting to see how these categories factor in to the number of accidental deaths, and if there are any leanings to particular drugs.\n\nLet's start by looking at the age profiles of deceased users of the most frequently occuring drugs."
    },
    {
      "metadata": {
        "collapsed": true,
        "_cell_guid": "3c58346d-d175-48d7-8308-8e937e9b817f",
        "_uuid": "2efebb6dce3825f125b29f49a92ebab2432650b0",
        "trusted": false
      },
      "cell_type": "code",
      "source": "most_frequent_drugs = deaths_by_drug[:5].index\nfrequent_drugs_df = df[df['drug_type'].isin(most_frequent_drugs)]",
      "execution_count": null,
      "outputs": []
    },
    {
      "metadata": {
        "collapsed": true,
        "_cell_guid": "e5c9271f-6dfa-422a-862b-70ca9cad5c5b",
        "_uuid": "fdef39bf1de1e70685b4534e47cfd02f37cb37a7",
        "trusted": false
      },
      "cell_type": "code",
      "source": "fig, ax = plt.subplots(1, 1, figsize=[11, 6])\nsns.violinplot(x='drug_type', y='age', hue='sex', data=frequent_drugs_df, ax=ax, split=True)\nax.set_xlabel('Age (years)')\nax.set_ylabel('Drug type')\nax.set_title('Distribution of deceased\\'s age by drug type and gender')\nplt.show()",
      "execution_count": null,
      "outputs": []
    },
    {
      "metadata": {
        "_uuid": "c5a0e18d40ad2d49dde09b56bf31c116775a9639",
        "_cell_guid": "d4bd8b62-5c83-4233-8855-969a0adb0e75"
      },
      "cell_type": "markdown",
      "source": " - Benzodiazepine shows quite a bit of different by age and sex - it appears to affect younger men and older women\n - The most deaths from cocaine in both genders is by people aged around 50, despite it's reputation as a party drug\n - On the other, hand heroin appears to strike early with bost genders showing a peak in the mid 20's."
    },
    {
      "metadata": {
        "_uuid": "6e94aa7265360503e8a715d7d963ef4e464a3641",
        "_cell_guid": "d8c066a1-766d-4104-b29b-f335ac19bf2a"
      },
      "cell_type": "markdown",
      "source": "A caveat on the above data - about 75% of the dates are male. This is plotted below, and whilst we're at it lets do the same thing for race. This reveals that the vast majority of deaths are from white people, with the only other significant numbers present in mixed race white/hispanic and black people."
    },
    {
      "metadata": {
        "collapsed": true,
        "_cell_guid": "d2ae6432-ab7f-499e-8b60-a4252b64ab1d",
        "_uuid": "8db048f9933b940c67f1a6fe72fd7d10bf8b6d9c",
        "trusted": false
      },
      "cell_type": "code",
      "source": "gender_counts = df['sex'].value_counts()\nrace_counts = df['race'].value_counts()\nfig, (ax, ax1) = plt.subplots(1, 2, figsize=[14, 5])\nsns.barplot(x=gender_counts, y=gender_counts.index, ax=ax)\nsns.barplot(x=race_counts, y=race_counts.index, ax=ax1)\nax.set_title('Total deaths by gender')\nax.set_xlabel('Total deaths')\nax1.set_title('Total deaths by race')\nax1.set_xlabel('Total deaths')\nplt.tight_layout()\nplt.show()",
      "execution_count": null,
      "outputs": []
    },
    {
      "metadata": {
        "_uuid": "8e4593d99c63fd4d7f8d75b121914dba773ff31f",
        "_cell_guid": "7cc29f5f-d0dd-402d-95b7-2d338d1a7846"
      },
      "cell_type": "markdown",
      "source": "Despite the imbalance of the data, is there any variance in the age of death by race?"
    },
    {
      "metadata": {
        "collapsed": true,
        "_cell_guid": "d66be7cf-ab45-428b-9dc6-7c6f78494ecc",
        "_uuid": "ba1437c2df426e31c8d4fd718e384b1358234da0",
        "trusted": false
      },
      "cell_type": "code",
      "source": "fig, ax = plt.subplots(1, 1, figsize=[8, 5])\nfor race in df['race'].unique():\n    if sum(df['race'] == race) > 100:\n        sns.distplot(df.loc[df['race'] == race, 'age'], hist=False, label=race, ax=ax)\nax.set_title('Age distributions of deceased by race')\nax.autoscale()\nax.legend()\nplt.show()",
      "execution_count": null,
      "outputs": []
    },
    {
      "metadata": {
        "_uuid": "96fb88911ad6846778fcda216f42e950aa6e9888",
        "_cell_guid": "abeeb74e-46d3-4e8c-a2f5-2ce39b99469c"
      },
      "cell_type": "markdown",
      "source": "Interestingly, there is a large peak for white people at around 30 that isn't matched at all by the other races displayed here, who have peaks much later on in life between 40-60. Again though, there is not much data on the non-white races so can't be too conclusive."
    },
    {
      "metadata": {
        "_uuid": "dcbd4e109c09c96f79e11ad8ad337f6b5be21c0b",
        "_cell_guid": "9424b091-514c-4627-a2a9-94a885eef828"
      },
      "cell_type": "markdown",
      "source": "Are there any demographic trends in drug preference? For these plots I will stick to the 5 drugs responsible for the most deaths to simplify."
    },
    {
      "metadata": {
        "collapsed": true,
        "_cell_guid": "81546950-79f2-4c6f-8558-f5f5a411b0f9",
        "_uuid": "3ff25cfc32782e1460adacf9b767fd6c151e65f3",
        "trusted": false
      },
      "cell_type": "code",
      "source": "deaths_by_gender = deaths_by_drug.copy()\nfor gender in ['Male', 'Female']:\n    temp_gender_df = df.loc[df['sex'] == gender, drug_types].sum().sort_values(ascending=False)\n    temp_gender_df = 100 * temp_gender_df / sum(temp_gender_df)  # Change to a percentage\n    deaths_by_gender = pd.DataFrame(deaths_by_gender).join(pd.DataFrame(temp_gender_df), rsuffix=gender)",
      "execution_count": null,
      "outputs": []
    },
    {
      "metadata": {
        "collapsed": true,
        "_cell_guid": "e5addac0-f878-4f30-9057-f8861b62f688",
        "_uuid": "617d4ddfa43b5f743ce2142e4ed0ba805ba1d3b4",
        "trusted": false
      },
      "cell_type": "code",
      "source": "deaths_by_race = deaths_by_drug.copy()\nfor race in ['White', 'Hispanic, White', 'Black']:\n    temp_race_df = df.loc[df['race'] == race, drug_types].sum().sort_values(ascending=False)\n    temp_race_df = 100 * temp_race_df / sum(temp_race_df)  # Change to a percentage\n    deaths_by_race = pd.DataFrame(deaths_by_race).join(pd.DataFrame(temp_race_df), rsuffix=race)",
      "execution_count": null,
      "outputs": []
    },
    {
      "metadata": {
        "collapsed": true,
        "_kg_hide-input": true,
        "_cell_guid": "1ef94033-e36a-40d7-9c1f-3a4f5bc4d3ac",
        "_uuid": "c8e91698ba0becd150af1366e77a5b54d76ddf59",
        "trusted": false
      },
      "cell_type": "code",
      "source": "fig, (ax, ax1) = plt.subplots(1, 2, figsize=(14, 5))\n\nN = len(deaths_by_gender.index[:5])\nind = np.arange(N)\nwidth = 0.35\nax.bar(x=ind, \n       height=deaths_by_gender.iloc[:5, 1].values, \n       width=width/2, \n       label='Male')\nax.bar(x=ind + width/2, \n       height=deaths_by_gender.iloc[:5, 2].values, \n       width=width/2, \n       label='Female')\nax.set_xticks(ind)\nax.set_xticklabels(deaths_by_gender.index[:5])\nax.set_ylabel('Proportion of all deaths (%)')\nax.set_title('Deaths by drug split by gender')\nax.legend()\n\nax1.bar(x=ind, \n       height=deaths_by_race.iloc[:5, 1].values, \n       width=width/2, \n       label='White')\nax1.bar(x=ind + width/2, \n       height=deaths_by_race.iloc[:5, 2].values, \n       width=width/2, \n       label='White, Hispanic')\nax1.bar(x=ind + width, \n       height=deaths_by_race.iloc[:5, 3].values, \n       width=width/2, \n       label='Black')\nax1.set_xticks(ind)\nax1.set_xticklabels(deaths_by_race.index[:5])\nax1.set_ylabel('Proportion of all deaths (%)')\nax1.set_title('Deaths by drug split by race')\nax1.legend()\n\n\nplt.show()",
      "execution_count": null,
      "outputs": []
    },
    {
      "metadata": {
        "_uuid": "138250ca419f176843bad369bf4264266b80d488",
        "_cell_guid": "cd09ed5a-b007-4125-9214-10bdab42edd4"
      },
      "cell_type": "markdown",
      "source": "So is **does** look like demographics influence the drug types used. Just a few observations I can make from these plots:\n\n- Heroin and fentanyl are proportionally more responsible for death amongst men, whilst benzodiazepine is more responsible for women\n- Black people are more susceptible to cocaine than the other two races considered here, whilst white poeple are more susceptible to benzodiazepine"
    },
    {
      "metadata": {
        "_uuid": "584f4d12b93cfbf051ba6dffe9d88e93fc68841e",
        "_cell_guid": "ccb90211-a580-4117-8959-8a0a7bb122db"
      },
      "cell_type": "markdown",
      "source": "### Injury locations <a name=\"loc\"></a>\n\nWhere do the injuries take place usually? This data has high cardinality so can be tricky to visualise, but is still iteresting in terms of the variety of different places these events can happen.\n\nLets plot the top 20:"
    },
    {
      "metadata": {
        "collapsed": true,
        "_cell_guid": "641373d0-5c2d-4997-953c-e3bfa1ce2793",
        "_uuid": "6e733df7b004dc829b406e02d6f6ffc41ea3b03e",
        "trusted": false
      },
      "cell_type": "code",
      "source": "injury_places = df['injuryplace'].value_counts()\nfig, ax = plt.subplots(1, 1, figsize=[8, 10])\nsns.barplot(x=injury_places[:20], y=injury_places[:20].index)\nplt.show()",
      "execution_count": null,
      "outputs": []
    },
    {
      "metadata": {
        "_uuid": "f07f3f661a07e68bfe3f3835bd210b64f149423c",
        "_cell_guid": "18be19e5-3326-41ba-a19c-b52081d24e55"
      },
      "cell_type": "markdown",
      "source": "Vast majority occur at home or another residence, and the alternatives are quite spread out with hotes/motels coming in as the second definite location."
    },
    {
      "metadata": {
        "_uuid": "76a47c4e7abe0bb0acc994d4394893cf6032ec75",
        "_cell_guid": "a9ab3bdb-eef2-4eba-81c7-1e295bcc9a27"
      },
      "cell_type": "markdown",
      "source": "### Conclusions <a name=\"conclusions\"></a>\n\n- Opiod abuse is growing quickyly in Connecticut, driven by a rapid growth in Fentanyl and steady growth in heroin.\n- White males constitute the largest number of accidental drug deaths in general, and partuclarly in opiods.\n- Most deaths occur in urban, densely populated areas within residencies."
    }
  ],
  "metadata": {
    "kernelspec": {
      "display_name": "Python 3",
      "language": "python",
      "name": "python3"
    },
    "varInspector": {
      "kernels_config": {
        "r": {
          "varRefreshCmd": "cat(var_dic_list()) ",
          "delete_cmd_postfix": ") ",
          "delete_cmd_prefix": "rm(",
          "library": "var_list.r"
        },
        "python": {
          "varRefreshCmd": "print(var_dic_list())",
          "delete_cmd_postfix": "",
          "delete_cmd_prefix": "del ",
          "library": "var_list.py"
        }
      },
      "cols": {
        "lenVar": 40,
        "lenName": 16,
        "lenType": 16
      },
      "types_to_exclude": [
        "module",
        "function",
        "builtin_function_or_method",
        "instance",
        "_Feature"
      ],
      "window_display": false
    },
    "language_info": {
      "mimetype": "text/x-python",
      "codemirror_mode": {
        "version": 3,
        "name": "ipython"
      },
      "file_extension": ".py",
      "nbconvert_exporter": "python",
      "version": "3.6.4",
      "pygments_lexer": "ipython3",
      "name": "python"
    }
  },
  "nbformat": 4,
  "nbformat_minor": 1
}