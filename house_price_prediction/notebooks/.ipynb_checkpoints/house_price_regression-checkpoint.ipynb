{
 "cells": [
  {
   "cell_type": "code",
   "execution_count": 1,
   "metadata": {
    "collapsed": true
   },
   "outputs": [],
   "source": [
    "import pandas as pd\n",
    "import numpy as np\n",
    "import seaborn as sns\n",
    "import matplotlib.pyplot as plt\n",
    "from sklearn.preprocessing import LabelEncoder, StandardScaler\n",
    "from sklearn.linear_model import LinearRegression, Ridge, ElasticNet, Lasso\n",
    "from sklearn.model_selection import cross_validate, cross_val_predict\n",
    "from sklearn.metrics import r2_score, make_scorer\n",
    "from scipy.stats import skew\n",
    "import warnings\n",
    "warnings.filterwarnings('ignore')\n",
    "%matplotlib inline"
   ]
  },
  {
   "cell_type": "markdown",
   "metadata": {},
   "source": [
    "## Regression\n",
    "\n",
    "This kernel builds a regression model for the Kaggle house price competition.\n",
    "\n",
    "There are lots of great kernels already submitted that cover exploration and visualisation, so I will go light on that section and heavier on the data processing and modelling with the hope of getting a respectable score.\n",
    "\n",
    "### Contents\n",
    "1. [Data preprocessing](#preprocessing)\n",
    "    1. [Accomodating nulls](#nulls)\n",
    "    2. [Examining types](#types)\n",
    "    3. [Encoding](#encoding)\n",
    "    4. [Engineering](#engineering)\n",
    "    5. [Outliers](#outliers)\n",
    "    6. [Transformations](#transformations)\n",
    "    7. [Scaling](#scaling)\n",
    "2. [Model building](#modelling)\n",
    "    1. [Linear regression](#linear)\n",
    "    2. [LightGBM](#lightgbm)\n",
    "    3. [DNN in Tensforflow](#tensorflow)\n",
    "    4. [Stack](#stack)\n",
    "3. [Make submission](#submission)"
   ]
  },
  {
   "cell_type": "markdown",
   "metadata": {},
   "source": [
    "### Data preprocessing <a name=\"preprocessing\"></a>"
   ]
  },
  {
   "cell_type": "markdown",
   "metadata": {},
   "source": [
    "There is a fair whack to do here. Good mix of categorical, ordinal and continuous data with all three kinds stored as either numerical or string data. In addition, some of the columns are mostly null or lack variance as a result of being mostly zero, so there are a few decisions to make here that will have a large impact on later modelling performance.\n",
    "\n",
    "First step though is to load the train and test data sets. Drop the ID column from the training set to align columns with the test set."
   ]
  },
  {
   "cell_type": "code",
   "execution_count": 2,
   "metadata": {},
   "outputs": [
    {
     "name": "stdout",
     "output_type": "stream",
     "text": [
      "Train size:\t#rows = 1460, #cols = 80\n",
      "Test size:\t#rows = 1459, #cols = 80\n"
     ]
    }
   ],
   "source": [
    "train_df = pd.read_csv('../input/train.csv')\n",
    "train_df.drop('Id', inplace=True, axis=1)\n",
    "test_df = pd.read_csv('../input/test.csv')\n",
    "print('Train size:\\t#rows = {}, #cols = {}\\nTest size:\\t#rows = {}, #cols = {}'\\\n",
    "      .format(train_df.shape[0], train_df.shape[1], test_df.shape[0], test_df.shape[1]))"
   ]
  },
  {
   "cell_type": "markdown",
   "metadata": {},
   "source": [
    "Append the two sets for now to streamline the preprocessing steps and reduce error possibility."
   ]
  },
  {
   "cell_type": "code",
   "execution_count": 3,
   "metadata": {},
   "outputs": [
    {
     "data": {
      "text/html": [
       "<div>\n",
       "<style>\n",
       "    .dataframe thead tr:only-child th {\n",
       "        text-align: right;\n",
       "    }\n",
       "\n",
       "    .dataframe thead th {\n",
       "        text-align: left;\n",
       "    }\n",
       "\n",
       "    .dataframe tbody tr th {\n",
       "        vertical-align: top;\n",
       "    }\n",
       "</style>\n",
       "<table border=\"1\" class=\"dataframe\">\n",
       "  <thead>\n",
       "    <tr style=\"text-align: right;\">\n",
       "      <th></th>\n",
       "      <th>1stFlrSF</th>\n",
       "      <th>2ndFlrSF</th>\n",
       "      <th>3SsnPorch</th>\n",
       "      <th>Alley</th>\n",
       "      <th>BedroomAbvGr</th>\n",
       "      <th>BldgType</th>\n",
       "      <th>BsmtCond</th>\n",
       "      <th>BsmtExposure</th>\n",
       "      <th>BsmtFinSF1</th>\n",
       "      <th>BsmtFinSF2</th>\n",
       "      <th>...</th>\n",
       "      <th>ScreenPorch</th>\n",
       "      <th>Street</th>\n",
       "      <th>TotRmsAbvGrd</th>\n",
       "      <th>TotalBsmtSF</th>\n",
       "      <th>Utilities</th>\n",
       "      <th>WoodDeckSF</th>\n",
       "      <th>YearBuilt</th>\n",
       "      <th>YearRemodAdd</th>\n",
       "      <th>YrSold</th>\n",
       "      <th>train_set</th>\n",
       "    </tr>\n",
       "  </thead>\n",
       "  <tbody>\n",
       "    <tr>\n",
       "      <th>0</th>\n",
       "      <td>856</td>\n",
       "      <td>854</td>\n",
       "      <td>0</td>\n",
       "      <td>NaN</td>\n",
       "      <td>3</td>\n",
       "      <td>1Fam</td>\n",
       "      <td>TA</td>\n",
       "      <td>No</td>\n",
       "      <td>706.0</td>\n",
       "      <td>0.0</td>\n",
       "      <td>...</td>\n",
       "      <td>0</td>\n",
       "      <td>Pave</td>\n",
       "      <td>8</td>\n",
       "      <td>856.0</td>\n",
       "      <td>AllPub</td>\n",
       "      <td>0</td>\n",
       "      <td>2003</td>\n",
       "      <td>2003</td>\n",
       "      <td>2008</td>\n",
       "      <td>1</td>\n",
       "    </tr>\n",
       "    <tr>\n",
       "      <th>1</th>\n",
       "      <td>1262</td>\n",
       "      <td>0</td>\n",
       "      <td>0</td>\n",
       "      <td>NaN</td>\n",
       "      <td>3</td>\n",
       "      <td>1Fam</td>\n",
       "      <td>TA</td>\n",
       "      <td>Gd</td>\n",
       "      <td>978.0</td>\n",
       "      <td>0.0</td>\n",
       "      <td>...</td>\n",
       "      <td>0</td>\n",
       "      <td>Pave</td>\n",
       "      <td>6</td>\n",
       "      <td>1262.0</td>\n",
       "      <td>AllPub</td>\n",
       "      <td>298</td>\n",
       "      <td>1976</td>\n",
       "      <td>1976</td>\n",
       "      <td>2007</td>\n",
       "      <td>1</td>\n",
       "    </tr>\n",
       "    <tr>\n",
       "      <th>2</th>\n",
       "      <td>920</td>\n",
       "      <td>866</td>\n",
       "      <td>0</td>\n",
       "      <td>NaN</td>\n",
       "      <td>3</td>\n",
       "      <td>1Fam</td>\n",
       "      <td>TA</td>\n",
       "      <td>Mn</td>\n",
       "      <td>486.0</td>\n",
       "      <td>0.0</td>\n",
       "      <td>...</td>\n",
       "      <td>0</td>\n",
       "      <td>Pave</td>\n",
       "      <td>6</td>\n",
       "      <td>920.0</td>\n",
       "      <td>AllPub</td>\n",
       "      <td>0</td>\n",
       "      <td>2001</td>\n",
       "      <td>2002</td>\n",
       "      <td>2008</td>\n",
       "      <td>1</td>\n",
       "    </tr>\n",
       "    <tr>\n",
       "      <th>3</th>\n",
       "      <td>961</td>\n",
       "      <td>756</td>\n",
       "      <td>0</td>\n",
       "      <td>NaN</td>\n",
       "      <td>3</td>\n",
       "      <td>1Fam</td>\n",
       "      <td>Gd</td>\n",
       "      <td>No</td>\n",
       "      <td>216.0</td>\n",
       "      <td>0.0</td>\n",
       "      <td>...</td>\n",
       "      <td>0</td>\n",
       "      <td>Pave</td>\n",
       "      <td>7</td>\n",
       "      <td>756.0</td>\n",
       "      <td>AllPub</td>\n",
       "      <td>0</td>\n",
       "      <td>1915</td>\n",
       "      <td>1970</td>\n",
       "      <td>2006</td>\n",
       "      <td>1</td>\n",
       "    </tr>\n",
       "    <tr>\n",
       "      <th>4</th>\n",
       "      <td>1145</td>\n",
       "      <td>1053</td>\n",
       "      <td>0</td>\n",
       "      <td>NaN</td>\n",
       "      <td>4</td>\n",
       "      <td>1Fam</td>\n",
       "      <td>TA</td>\n",
       "      <td>Av</td>\n",
       "      <td>655.0</td>\n",
       "      <td>0.0</td>\n",
       "      <td>...</td>\n",
       "      <td>0</td>\n",
       "      <td>Pave</td>\n",
       "      <td>9</td>\n",
       "      <td>1145.0</td>\n",
       "      <td>AllPub</td>\n",
       "      <td>192</td>\n",
       "      <td>2000</td>\n",
       "      <td>2000</td>\n",
       "      <td>2008</td>\n",
       "      <td>1</td>\n",
       "    </tr>\n",
       "  </tbody>\n",
       "</table>\n",
       "<p>5 rows × 82 columns</p>\n",
       "</div>"
      ],
      "text/plain": [
       "   1stFlrSF  2ndFlrSF  3SsnPorch Alley  BedroomAbvGr BldgType BsmtCond  \\\n",
       "0       856       854          0   NaN             3     1Fam       TA   \n",
       "1      1262         0          0   NaN             3     1Fam       TA   \n",
       "2       920       866          0   NaN             3     1Fam       TA   \n",
       "3       961       756          0   NaN             3     1Fam       Gd   \n",
       "4      1145      1053          0   NaN             4     1Fam       TA   \n",
       "\n",
       "  BsmtExposure  BsmtFinSF1  BsmtFinSF2    ...    ScreenPorch Street  \\\n",
       "0           No       706.0         0.0    ...              0   Pave   \n",
       "1           Gd       978.0         0.0    ...              0   Pave   \n",
       "2           Mn       486.0         0.0    ...              0   Pave   \n",
       "3           No       216.0         0.0    ...              0   Pave   \n",
       "4           Av       655.0         0.0    ...              0   Pave   \n",
       "\n",
       "   TotRmsAbvGrd  TotalBsmtSF Utilities  WoodDeckSF YearBuilt YearRemodAdd  \\\n",
       "0             8        856.0    AllPub           0      2003         2003   \n",
       "1             6       1262.0    AllPub         298      1976         1976   \n",
       "2             6        920.0    AllPub           0      2001         2002   \n",
       "3             7        756.0    AllPub           0      1915         1970   \n",
       "4             9       1145.0    AllPub         192      2000         2000   \n",
       "\n",
       "  YrSold train_set  \n",
       "0   2008         1  \n",
       "1   2007         1  \n",
       "2   2008         1  \n",
       "3   2006         1  \n",
       "4   2008         1  \n",
       "\n",
       "[5 rows x 82 columns]"
      ]
     },
     "execution_count": 3,
     "metadata": {},
     "output_type": "execute_result"
    }
   ],
   "source": [
    "train_df['train_set'] = 1\n",
    "test_df['train_set'] = 0\n",
    "df = train_df.append(test_df)\n",
    "df.head()"
   ]
  },
  {
   "cell_type": "markdown",
   "metadata": {},
   "source": [
    "#### Nulls <a name=\"nulls\"></a>\n",
    "\n",
    "So what do we have? A good first step with checking the quality of any data set is to look for nulls. Lets see which features in this set are affected."
   ]
  },
  {
   "cell_type": "code",
   "execution_count": 4,
   "metadata": {
    "collapsed": true
   },
   "outputs": [],
   "source": [
    "cols_with_nulls, null_perc = [], []\n",
    "for col in df.columns:\n",
    "    if sum(df[col].isnull()) > 0:\n",
    "        cols_with_nulls.append(col)\n",
    "        null_perc.append(100 * sum(df[col].isnull()) / len(df))\n",
    "null_counts = pd.DataFrame({'column': cols_with_nulls, 'null_perc': null_perc}).sort_values(by='null_perc',\n",
    "                                                                                            ascending=False)"
   ]
  },
  {
   "cell_type": "code",
   "execution_count": 5,
   "metadata": {},
   "outputs": [
    {
     "data": {
      "image/png": "[encoded data removed]",
      "text/plain": [
       "<matplotlib.figure.Figure at 0x104ca7518>"
      ]
     },
     "metadata": {},
     "output_type": "display_data"
    }
   ],
   "source": [
    "fig, ax = plt.subplots(1, 1, figsize=[10, 10])\n",
    "sns.barplot(x='null_perc', y='column', data=null_counts, ax=ax)\n",
    "ax.set_xlabel('Null percentage (%)')\n",
    "ax.set_ylabel('')\n",
    "plt.show()"
   ]
  },
  {
   "cell_type": "markdown",
   "metadata": {},
   "source": [
    "So in fairness, the majority of the features are OK. However, there are a handful of columns over 50% null. I will drop these as any machine learning algorithm will struggle to make use of them. Even algorithms like LightGBM that have native handling of nulls would probably ignore them due to a lack of variance."
   ]
  },
  {
   "cell_type": "code",
   "execution_count": 6,
   "metadata": {
    "collapsed": true
   },
   "outputs": [],
   "source": [
    "null_threshold = .5\n",
    "for col in df.columns:\n",
    "    if (sum(df[col].isnull()) / len(df) > null_threshold) & (col != 'SalePrice'):  # Don't drop the target\n",
    "        df.drop(col, axis=1, inplace=True)"
   ]
  },
  {
   "cell_type": "markdown",
   "metadata": {},
   "source": [
    "#### Datatypes <a name=\"types\"></a>"
   ]
  },
  {
   "cell_type": "markdown",
   "metadata": {},
   "source": [
    "Next let's check the data *types*. A starting assumption I would make is that integer columns contain counts or ordinal data, floats contain continuous data and objects contain ordinal or categorical data as strings. "
   ]
  },
  {
   "cell_type": "code",
   "execution_count": 7,
   "metadata": {},
   "outputs": [
    {
     "data": {
      "image/png": "[encoded data removed]",
      "text/plain": [
       "<matplotlib.figure.Figure at 0x104cae0b8>"
      ]
     },
     "metadata": {},
     "output_type": "display_data"
    }
   ],
   "source": [
    "df.dtypes.value_counts().plot(kind='barh')\n",
    "plt.title('Data types present with counts')\n",
    "plt.show()"
   ]
  },
  {
   "cell_type": "markdown",
   "metadata": {},
   "source": [
    "So those are the numpy datatypes, but I would like to group them by conceptual datatypes, i.e. continuous, ordinal and categorical, for further use in this kernel.\n",
    "\n",
    "To start, I can look at the numerical values (those that are not dtype == object), with the presumption that most will be continuous or ordinal"
   ]
  },
  {
   "cell_type": "code",
   "execution_count": 8,
   "metadata": {},
   "outputs": [
    {
     "name": "stdout",
     "output_type": "stream",
     "text": [
      "['1stFlrSF', '2ndFlrSF', '3SsnPorch', 'BedroomAbvGr', 'BsmtFinSF1', 'BsmtFinSF2', 'BsmtFullBath', 'BsmtHalfBath', 'BsmtUnfSF', 'EnclosedPorch', 'Fireplaces', 'FullBath', 'GarageArea', 'GarageCars', 'GarageYrBlt', 'GrLivArea', 'HalfBath', 'KitchenAbvGr', 'LotArea', 'LotFrontage', 'LowQualFinSF', 'MSSubClass', 'MasVnrArea', 'MiscVal', 'MoSold', 'OpenPorchSF', 'OverallCond', 'OverallQual', 'PoolArea', 'SalePrice', 'ScreenPorch', 'TotRmsAbvGrd', 'TotalBsmtSF', 'WoodDeckSF', 'YearBuilt', 'YearRemodAdd', 'YrSold', 'train_set']\n"
     ]
    }
   ],
   "source": [
    "numerical_cols = df.columns[df.dtypes != 'object'].tolist()\n",
    "print(numerical_cols)"
   ]
  },
  {
   "cell_type": "markdown",
   "metadata": {},
   "source": [
    "So does this look right? As mentioned, a few, if not most, of these will be ordinal or possibly encoded categoricals. Fortunately, I don't have to infer this (using df.describe() for example) as Kaggle provides the answers in the data_description.txt file (some painstaking ctrl+c and +v'ing later...):"
   ]
  },
  {
   "cell_type": "code",
   "execution_count": 9,
   "metadata": {
    "collapsed": true
   },
   "outputs": [],
   "source": [
    "ordinal_numericals = ['BsmtFullBath', 'BsmtHalfBath', 'Fireplaces', 'FullBath', 'GarageCars', \n",
    "                      'HalfBath', 'MoSold', 'OverallCond', 'OverallQual', 'TotRmsAbvGrd']\n",
    "date_numericals = ['GarageYrBlt', 'YearBuilt', 'YearRemodAdd', 'YrSold']\n",
    "boolean_numericals = ['BedroomAbvGr', 'KitchenAbvGr']\n",
    "categorical_numericals = ['MSSubClass']"
   ]
  },
  {
   "cell_type": "markdown",
   "metadata": {},
   "source": [
    "The remaining numericals are the continuous ones, except the label SalePrice which I will manually remove from the list."
   ]
  },
  {
   "cell_type": "code",
   "execution_count": 10,
   "metadata": {
    "collapsed": true
   },
   "outputs": [],
   "source": [
    "continuous_feats = [col for col in numerical_cols if col not in ordinal_numericals and\\\n",
    "                                                     col not in date_numericals and\\\n",
    "                                                     col not in boolean_numericals and\\\n",
    "                                                     col not in categorical_numericals]\n",
    "continuous_feats.remove('SalePrice')"
   ]
  },
  {
   "cell_type": "code",
   "execution_count": 11,
   "metadata": {},
   "outputs": [
    {
     "data": {
      "text/html": [
       "<div>\n",
       "<style>\n",
       "    .dataframe thead tr:only-child th {\n",
       "        text-align: right;\n",
       "    }\n",
       "\n",
       "    .dataframe thead th {\n",
       "        text-align: left;\n",
       "    }\n",
       "\n",
       "    .dataframe tbody tr th {\n",
       "        vertical-align: top;\n",
       "    }\n",
       "</style>\n",
       "<table border=\"1\" class=\"dataframe\">\n",
       "  <thead>\n",
       "    <tr style=\"text-align: right;\">\n",
       "      <th></th>\n",
       "      <th>1stFlrSF</th>\n",
       "      <th>2ndFlrSF</th>\n",
       "      <th>3SsnPorch</th>\n",
       "      <th>BsmtFinSF1</th>\n",
       "      <th>BsmtFinSF2</th>\n",
       "      <th>BsmtUnfSF</th>\n",
       "      <th>EnclosedPorch</th>\n",
       "      <th>GarageArea</th>\n",
       "      <th>GrLivArea</th>\n",
       "      <th>LotArea</th>\n",
       "      <th>LotFrontage</th>\n",
       "      <th>LowQualFinSF</th>\n",
       "      <th>MasVnrArea</th>\n",
       "      <th>MiscVal</th>\n",
       "      <th>OpenPorchSF</th>\n",
       "      <th>PoolArea</th>\n",
       "      <th>ScreenPorch</th>\n",
       "      <th>TotalBsmtSF</th>\n",
       "      <th>WoodDeckSF</th>\n",
       "      <th>train_set</th>\n",
       "    </tr>\n",
       "  </thead>\n",
       "  <tbody>\n",
       "    <tr>\n",
       "      <th>count</th>\n",
       "      <td>2919.000000</td>\n",
       "      <td>2919.000000</td>\n",
       "      <td>2919.000000</td>\n",
       "      <td>2918.000000</td>\n",
       "      <td>2918.000000</td>\n",
       "      <td>2918.000000</td>\n",
       "      <td>2919.000000</td>\n",
       "      <td>2918.000000</td>\n",
       "      <td>2919.000000</td>\n",
       "      <td>2919.000000</td>\n",
       "      <td>2433.000000</td>\n",
       "      <td>2919.000000</td>\n",
       "      <td>2896.000000</td>\n",
       "      <td>2919.000000</td>\n",
       "      <td>2919.000000</td>\n",
       "      <td>2919.000000</td>\n",
       "      <td>2919.000000</td>\n",
       "      <td>2918.000000</td>\n",
       "      <td>2919.000000</td>\n",
       "      <td>2919.000000</td>\n",
       "    </tr>\n",
       "    <tr>\n",
       "      <th>mean</th>\n",
       "      <td>1159.581706</td>\n",
       "      <td>336.483727</td>\n",
       "      <td>2.602261</td>\n",
       "      <td>441.423235</td>\n",
       "      <td>49.582248</td>\n",
       "      <td>560.772104</td>\n",
       "      <td>23.098321</td>\n",
       "      <td>472.874572</td>\n",
       "      <td>1500.759849</td>\n",
       "      <td>10168.114080</td>\n",
       "      <td>69.305795</td>\n",
       "      <td>4.694416</td>\n",
       "      <td>102.201312</td>\n",
       "      <td>50.825968</td>\n",
       "      <td>47.486811</td>\n",
       "      <td>2.251799</td>\n",
       "      <td>16.062350</td>\n",
       "      <td>1051.777587</td>\n",
       "      <td>93.709832</td>\n",
       "      <td>0.500171</td>\n",
       "    </tr>\n",
       "    <tr>\n",
       "      <th>std</th>\n",
       "      <td>392.362079</td>\n",
       "      <td>428.701456</td>\n",
       "      <td>25.188169</td>\n",
       "      <td>455.610826</td>\n",
       "      <td>169.205611</td>\n",
       "      <td>439.543659</td>\n",
       "      <td>64.244246</td>\n",
       "      <td>215.394815</td>\n",
       "      <td>506.051045</td>\n",
       "      <td>7886.996359</td>\n",
       "      <td>23.344905</td>\n",
       "      <td>46.396825</td>\n",
       "      <td>179.334253</td>\n",
       "      <td>567.402211</td>\n",
       "      <td>67.575493</td>\n",
       "      <td>35.663946</td>\n",
       "      <td>56.184365</td>\n",
       "      <td>440.766258</td>\n",
       "      <td>126.526589</td>\n",
       "      <td>0.500086</td>\n",
       "    </tr>\n",
       "    <tr>\n",
       "      <th>min</th>\n",
       "      <td>334.000000</td>\n",
       "      <td>0.000000</td>\n",
       "      <td>0.000000</td>\n",
       "      <td>0.000000</td>\n",
       "      <td>0.000000</td>\n",
       "      <td>0.000000</td>\n",
       "      <td>0.000000</td>\n",
       "      <td>0.000000</td>\n",
       "      <td>334.000000</td>\n",
       "      <td>1300.000000</td>\n",
       "      <td>21.000000</td>\n",
       "      <td>0.000000</td>\n",
       "      <td>0.000000</td>\n",
       "      <td>0.000000</td>\n",
       "      <td>0.000000</td>\n",
       "      <td>0.000000</td>\n",
       "      <td>0.000000</td>\n",
       "      <td>0.000000</td>\n",
       "      <td>0.000000</td>\n",
       "      <td>0.000000</td>\n",
       "    </tr>\n",
       "    <tr>\n",
       "      <th>25%</th>\n",
       "      <td>876.000000</td>\n",
       "      <td>0.000000</td>\n",
       "      <td>0.000000</td>\n",
       "      <td>0.000000</td>\n",
       "      <td>0.000000</td>\n",
       "      <td>220.000000</td>\n",
       "      <td>0.000000</td>\n",
       "      <td>320.000000</td>\n",
       "      <td>1126.000000</td>\n",
       "      <td>7478.000000</td>\n",
       "      <td>59.000000</td>\n",
       "      <td>0.000000</td>\n",
       "      <td>0.000000</td>\n",
       "      <td>0.000000</td>\n",
       "      <td>0.000000</td>\n",
       "      <td>0.000000</td>\n",
       "      <td>0.000000</td>\n",
       "      <td>793.000000</td>\n",
       "      <td>0.000000</td>\n",
       "      <td>0.000000</td>\n",
       "    </tr>\n",
       "    <tr>\n",
       "      <th>50%</th>\n",
       "      <td>1082.000000</td>\n",
       "      <td>0.000000</td>\n",
       "      <td>0.000000</td>\n",
       "      <td>368.500000</td>\n",
       "      <td>0.000000</td>\n",
       "      <td>467.000000</td>\n",
       "      <td>0.000000</td>\n",
       "      <td>480.000000</td>\n",
       "      <td>1444.000000</td>\n",
       "      <td>9453.000000</td>\n",
       "      <td>68.000000</td>\n",
       "      <td>0.000000</td>\n",
       "      <td>0.000000</td>\n",
       "      <td>0.000000</td>\n",
       "      <td>26.000000</td>\n",
       "      <td>0.000000</td>\n",
       "      <td>0.000000</td>\n",
       "      <td>989.500000</td>\n",
       "      <td>0.000000</td>\n",
       "      <td>1.000000</td>\n",
       "    </tr>\n",
       "    <tr>\n",
       "      <th>75%</th>\n",
       "      <td>1387.500000</td>\n",
       "      <td>704.000000</td>\n",
       "      <td>0.000000</td>\n",
       "      <td>733.000000</td>\n",
       "      <td>0.000000</td>\n",
       "      <td>805.500000</td>\n",
       "      <td>0.000000</td>\n",
       "      <td>576.000000</td>\n",
       "      <td>1743.500000</td>\n",
       "      <td>11570.000000</td>\n",
       "      <td>80.000000</td>\n",
       "      <td>0.000000</td>\n",
       "      <td>164.000000</td>\n",
       "      <td>0.000000</td>\n",
       "      <td>70.000000</td>\n",
       "      <td>0.000000</td>\n",
       "      <td>0.000000</td>\n",
       "      <td>1302.000000</td>\n",
       "      <td>168.000000</td>\n",
       "      <td>1.000000</td>\n",
       "    </tr>\n",
       "    <tr>\n",
       "      <th>max</th>\n",
       "      <td>5095.000000</td>\n",
       "      <td>2065.000000</td>\n",
       "      <td>508.000000</td>\n",
       "      <td>5644.000000</td>\n",
       "      <td>1526.000000</td>\n",
       "      <td>2336.000000</td>\n",
       "      <td>1012.000000</td>\n",
       "      <td>1488.000000</td>\n",
       "      <td>5642.000000</td>\n",
       "      <td>215245.000000</td>\n",
       "      <td>313.000000</td>\n",
       "      <td>1064.000000</td>\n",
       "      <td>1600.000000</td>\n",
       "      <td>17000.000000</td>\n",
       "      <td>742.000000</td>\n",
       "      <td>800.000000</td>\n",
       "      <td>576.000000</td>\n",
       "      <td>6110.000000</td>\n",
       "      <td>1424.000000</td>\n",
       "      <td>1.000000</td>\n",
       "    </tr>\n",
       "  </tbody>\n",
       "</table>\n",
       "</div>"
      ],
      "text/plain": [
       "          1stFlrSF     2ndFlrSF    3SsnPorch   BsmtFinSF1   BsmtFinSF2  \\\n",
       "count  2919.000000  2919.000000  2919.000000  2918.000000  2918.000000   \n",
       "mean   1159.581706   336.483727     2.602261   441.423235    49.582248   \n",
       "std     392.362079   428.701456    25.188169   455.610826   169.205611   \n",
       "min     334.000000     0.000000     0.000000     0.000000     0.000000   \n",
       "25%     876.000000     0.000000     0.000000     0.000000     0.000000   \n",
       "50%    1082.000000     0.000000     0.000000   368.500000     0.000000   \n",
       "75%    1387.500000   704.000000     0.000000   733.000000     0.000000   \n",
       "max    5095.000000  2065.000000   508.000000  5644.000000  1526.000000   \n",
       "\n",
       "         BsmtUnfSF  EnclosedPorch   GarageArea    GrLivArea        LotArea  \\\n",
       "count  2918.000000    2919.000000  2918.000000  2919.000000    2919.000000   \n",
       "mean    560.772104      23.098321   472.874572  1500.759849   10168.114080   \n",
       "std     439.543659      64.244246   215.394815   506.051045    7886.996359   \n",
       "min       0.000000       0.000000     0.000000   334.000000    1300.000000   \n",
       "25%     220.000000       0.000000   320.000000  1126.000000    7478.000000   \n",
       "50%     467.000000       0.000000   480.000000  1444.000000    9453.000000   \n",
       "75%     805.500000       0.000000   576.000000  1743.500000   11570.000000   \n",
       "max    2336.000000    1012.000000  1488.000000  5642.000000  215245.000000   \n",
       "\n",
       "       LotFrontage  LowQualFinSF   MasVnrArea       MiscVal  OpenPorchSF  \\\n",
       "count  2433.000000   2919.000000  2896.000000   2919.000000  2919.000000   \n",
       "mean     69.305795      4.694416   102.201312     50.825968    47.486811   \n",
       "std      23.344905     46.396825   179.334253    567.402211    67.575493   \n",
       "min      21.000000      0.000000     0.000000      0.000000     0.000000   \n",
       "25%      59.000000      0.000000     0.000000      0.000000     0.000000   \n",
       "50%      68.000000      0.000000     0.000000      0.000000    26.000000   \n",
       "75%      80.000000      0.000000   164.000000      0.000000    70.000000   \n",
       "max     313.000000   1064.000000  1600.000000  17000.000000   742.000000   \n",
       "\n",
       "          PoolArea  ScreenPorch  TotalBsmtSF   WoodDeckSF    train_set  \n",
       "count  2919.000000  2919.000000  2918.000000  2919.000000  2919.000000  \n",
       "mean      2.251799    16.062350  1051.777587    93.709832     0.500171  \n",
       "std      35.663946    56.184365   440.766258   126.526589     0.500086  \n",
       "min       0.000000     0.000000     0.000000     0.000000     0.000000  \n",
       "25%       0.000000     0.000000   793.000000     0.000000     0.000000  \n",
       "50%       0.000000     0.000000   989.500000     0.000000     1.000000  \n",
       "75%       0.000000     0.000000  1302.000000   168.000000     1.000000  \n",
       "max     800.000000   576.000000  6110.000000  1424.000000     1.000000  "
      ]
     },
     "execution_count": 11,
     "metadata": {},
     "output_type": "execute_result"
    }
   ],
   "source": [
    "df[continuous_feats].describe()"
   ]
  },
  {
   "cell_type": "markdown",
   "metadata": {},
   "source": [
    "Similarly, I can expect the object dtypes to be non-numerical and therefore mostly categorical. However, from the data_description.txt document, a fair few of the non-numerical datatypes are ordinal. For example: \n",
    "\n",
    "BsmtQual: Evaluates the height of the basement\n",
    "- Ex\tExcellent (100+ inches)\t\n",
    "- Gd\tGood (90-99 inches)\n",
    "- TA\tTypical (80-89 inches)\n",
    "- Fa\tFair (70-79 inches)\n",
    "- Po\tPoor (<70 inches\n",
    "- NA\tNo Basement\n",
    "       \n",
    "It would be a shame to lose this order by making BsmtQual purely categorical, so this may need some thought. In practice, this means only label encoding them in order rather that one-hot encoding. However, there are no guarantees label encoded ordinals will perform better that one-hot encoded categoricals, so I will probably CV to check.\n",
    "\n",
    "Define them separately for now."
   ]
  },
  {
   "cell_type": "code",
   "execution_count": 12,
   "metadata": {},
   "outputs": [
    {
     "name": "stdout",
     "output_type": "stream",
     "text": [
      "['BldgType', 'BsmtCond', 'BsmtExposure', 'BsmtFinType1', 'BsmtFinType2', 'BsmtQual', 'CentralAir', 'Condition1', 'Condition2', 'Electrical', 'ExterCond', 'ExterQual', 'Exterior1st', 'Exterior2nd', 'FireplaceQu', 'Foundation', 'Functional', 'GarageCond', 'GarageFinish', 'GarageQual', 'GarageType', 'Heating', 'HeatingQC', 'HouseStyle', 'KitchenQual', 'LandContour', 'LandSlope', 'LotConfig', 'LotShape', 'MSZoning', 'MasVnrType', 'Neighborhood', 'PavedDrive', 'RoofMatl', 'RoofStyle', 'SaleCondition', 'SaleType', 'Street', 'Utilities']\n"
     ]
    }
   ],
   "source": [
    "non_numerical_cols = df.columns[df.dtypes == 'object'].tolist()\n",
    "print(non_numerical_cols)"
   ]
  },
  {
   "cell_type": "code",
   "execution_count": 13,
   "metadata": {
    "collapsed": true
   },
   "outputs": [],
   "source": [
    "categorical_strings = ['BldgType', 'Condition1', 'Condition2', 'Electrical', 'Exterior1st', \n",
    "                       'Exterior2nd', 'Foundation', 'GarageType', 'Heating', 'HouseStyle', \n",
    "                       'LandContour', 'LotConfig', 'LotShape', 'MSZoning', 'MasVnrType', \n",
    "                       'Neighborhood', 'PavedDrive', 'RoofMatl', 'RoofStyle', 'SaleCondition',\n",
    "                       'SaleType', 'Street', 'Utilities']\n",
    "ordinal_strings = ['BsmtCond', 'BsmtExposure', 'BsmtFinType1', 'BsmtFinType2', 'BsmtQual', 'ExterCond',\n",
    "                  'ExterQual', 'FireplaceQu', 'Functional',  'GarageCond', 'GarageFinish', 'GarageQual',\n",
    "                   'HeatingQC', 'KitchenQual', 'LandSlope']\n",
    "boolean_strings = ['CentralAir']"
   ]
  },
  {
   "cell_type": "markdown",
   "metadata": {},
   "source": [
    "Whilst I have the datatypes broken out, I will use this to inform a null-filling strategy:\n",
    "\n",
    "- Continuous and date variables filled by median\n",
    "- Ordinal values filled by the mode\n",
    "- Categorical values filled with a null category ('NA')"
   ]
  },
  {
   "cell_type": "code",
   "execution_count": 14,
   "metadata": {},
   "outputs": [],
   "source": [
    "all_categoricals = categorical_numericals + categorical_strings\n",
    "df[all_categoricals] = df[all_categoricals].fillna('NA')\n",
    "\n",
    "all_ordinals = ordinal_numericals + ordinal_strings\n",
    "mode_df = pd.DataFrame(data=df[all_ordinals].mode().values.tolist()[0], index=all_ordinals)\n",
    "df[all_ordinals] = df[all_ordinals].fillna(mode_df[0])\n",
    "\n",
    "df[continuous_feats] = df[continuous_feats].fillna(df[continuous_feats].median())\n",
    "df[date_numericals] = df[date_numericals].fillna(df[date_numericals].median())"
   ]
  },
  {
   "cell_type": "markdown",
   "metadata": {},
   "source": [
    "#### Encoding  <a name=\"encoding\"></a>"
   ]
  },
  {
   "cell_type": "markdown",
   "metadata": {},
   "source": [
    "So both my categorical and ordinal features need encoding. All categoricals need one-hot encoding. Non-numerical ordinals need at least label encoding (by painstakingly mapping their order to integers), whilst numerical ordinals *may* be fine as they are.\n",
    "\n",
    "##### Categorical features"
   ]
  },
  {
   "cell_type": "code",
   "execution_count": 15,
   "metadata": {},
   "outputs": [
    {
     "name": "stdout",
     "output_type": "stream",
     "text": [
      "Shape before one-hot encoding of categoricals =\t(2919, 77)\n",
      "Shape after one-hot encoding of categoricals =\t(2919, 244)\n"
     ]
    }
   ],
   "source": [
    "print('Shape before one-hot encoding of categoricals =\\t{}'.format(df.shape))\n",
    "df = pd.get_dummies(df, columns=all_categoricals)\n",
    "print('Shape after one-hot encoding of categoricals =\\t{}'.format(df.shape))"
   ]
  },
  {
   "cell_type": "markdown",
   "metadata": {},
   "source": [
    "##### Ordinal features\n",
    "\n",
    "Unfortunately, I will have to create dictionaries to map the non-numerical features to from the data_description.txt file."
   ]
  },
  {
   "cell_type": "code",
   "execution_count": 16,
   "metadata": {
    "collapsed": true
   },
   "outputs": [],
   "source": [
    "ordinal_dict_1 = {'NA': 0, 'Po': 1, 'Fa': 2, 'TA': 3, 'Gd': 4, 'Ex': 5}\n",
    "ordinal_dict_2 = {'NA': 0, 'No': 1, 'Mn': 2, 'Av': 3, 'Gd': 4}\n",
    "ordinal_dict_3 = {'NA': 0, 'Unf': 1, 'LwQ': 2, 'Rec': 3, 'BLQ': 4, 'ALQ': 5, 'GLQ': 6}\n",
    "ordinal_dict_4 = {'Sal': 0, 'Sev': 1, 'Maj2': 2, 'Maj1': 3, 'Mod': 4, 'Min2': 5, 'Min1': 6, 'Typ': 7}\n",
    "ordinal_dict_5 = {'Na': 0, 'Unf': 1, 'RFn': 2, 'Fin': 3}\n",
    "ordinal_dict_6 = {'Sev': 0, 'Mod': 1, 'Gtl': 2}"
   ]
  },
  {
   "cell_type": "code",
   "execution_count": 17,
   "metadata": {
    "collapsed": true
   },
   "outputs": [],
   "source": [
    "for cat in ['ExterQual', 'ExterCond', 'BsmtQual', 'BsmtCond', 'HeatingQC', 'KitchenQual', 'FireplaceQu',\n",
    "            'GarageQual', 'GarageCond', ]:\n",
    "    df[cat] = df[cat].map(ordinal_dict_1)\n",
    "    \n",
    "for cat in ['BsmtExposure']:\n",
    "    df[cat] = df[cat].map(ordinal_dict_2)\n",
    "    \n",
    "for cat in ['BsmtFinType1', 'BsmtFinType2']:\n",
    "    df[cat] = df[cat].map(ordinal_dict_3)\n",
    "    \n",
    "for cat in ['Functional']:\n",
    "    df[cat] = df[cat].map(ordinal_dict_4)\n",
    "    \n",
    "for cat in ['GarageFinish']:\n",
    "    df[cat] = df[cat].map(ordinal_dict_5)\n",
    "    \n",
    "for cat in ['LandSlope']:\n",
    "    df[cat] = df[cat].map(ordinal_dict_6)\n",
    "    \n",
    "# Check I haven't introduced more nulls\n",
    "null_counts.set_index('column', inplace=True)\n",
    "for col in ordinal_strings:\n",
    "    if sum(df[col].isnull()) > 0:\n",
    "        null_counts.loc[col, 'perc_after_encoding'] = 100 * sum(df[col].isnull()) / len(df)\n",
    "        assert null_counts.loc[col, 'perc_after_encoding'] == null_counts.loc[col, 'null_perc'],\\\n",
    "        'Nulls introduced in feature {}, check corresponding dictionary'.format(col)"
   ]
  },
  {
   "cell_type": "markdown",
   "metadata": {},
   "source": [
    "Boolean string variables just need label encoding"
   ]
  },
  {
   "cell_type": "code",
   "execution_count": 18,
   "metadata": {
    "collapsed": true
   },
   "outputs": [],
   "source": [
    "for cat in boolean_strings:\n",
    "    encoder = LabelEncoder()\n",
    "    df[cat] = encoder.fit_transform(df[cat])"
   ]
  },
  {
   "cell_type": "markdown",
   "metadata": {},
   "source": [
    "So how does the data set look now after encoding?"
   ]
  },
  {
   "cell_type": "code",
   "execution_count": 19,
   "metadata": {},
   "outputs": [
    {
     "data": {
      "text/html": [
       "<div>\n",
       "<style>\n",
       "    .dataframe thead tr:only-child th {\n",
       "        text-align: right;\n",
       "    }\n",
       "\n",
       "    .dataframe thead th {\n",
       "        text-align: left;\n",
       "    }\n",
       "\n",
       "    .dataframe tbody tr th {\n",
       "        vertical-align: top;\n",
       "    }\n",
       "</style>\n",
       "<table border=\"1\" class=\"dataframe\">\n",
       "  <thead>\n",
       "    <tr style=\"text-align: right;\">\n",
       "      <th></th>\n",
       "      <th>1stFlrSF</th>\n",
       "      <th>2ndFlrSF</th>\n",
       "      <th>3SsnPorch</th>\n",
       "      <th>BedroomAbvGr</th>\n",
       "      <th>BsmtCond</th>\n",
       "      <th>BsmtExposure</th>\n",
       "      <th>BsmtFinSF1</th>\n",
       "      <th>BsmtFinSF2</th>\n",
       "      <th>BsmtFinType1</th>\n",
       "      <th>BsmtFinType2</th>\n",
       "      <th>...</th>\n",
       "      <th>SaleType_ConLw</th>\n",
       "      <th>SaleType_NA</th>\n",
       "      <th>SaleType_New</th>\n",
       "      <th>SaleType_Oth</th>\n",
       "      <th>SaleType_WD</th>\n",
       "      <th>Street_Grvl</th>\n",
       "      <th>Street_Pave</th>\n",
       "      <th>Utilities_AllPub</th>\n",
       "      <th>Utilities_NA</th>\n",
       "      <th>Utilities_NoSeWa</th>\n",
       "    </tr>\n",
       "  </thead>\n",
       "  <tbody>\n",
       "    <tr>\n",
       "      <th>0</th>\n",
       "      <td>856</td>\n",
       "      <td>854</td>\n",
       "      <td>0</td>\n",
       "      <td>3</td>\n",
       "      <td>3</td>\n",
       "      <td>1</td>\n",
       "      <td>706.0</td>\n",
       "      <td>0.0</td>\n",
       "      <td>6</td>\n",
       "      <td>1</td>\n",
       "      <td>...</td>\n",
       "      <td>0</td>\n",
       "      <td>0</td>\n",
       "      <td>0</td>\n",
       "      <td>0</td>\n",
       "      <td>1</td>\n",
       "      <td>0</td>\n",
       "      <td>1</td>\n",
       "      <td>1</td>\n",
       "      <td>0</td>\n",
       "      <td>0</td>\n",
       "    </tr>\n",
       "    <tr>\n",
       "      <th>1</th>\n",
       "      <td>1262</td>\n",
       "      <td>0</td>\n",
       "      <td>0</td>\n",
       "      <td>3</td>\n",
       "      <td>3</td>\n",
       "      <td>4</td>\n",
       "      <td>978.0</td>\n",
       "      <td>0.0</td>\n",
       "      <td>5</td>\n",
       "      <td>1</td>\n",
       "      <td>...</td>\n",
       "      <td>0</td>\n",
       "      <td>0</td>\n",
       "      <td>0</td>\n",
       "      <td>0</td>\n",
       "      <td>1</td>\n",
       "      <td>0</td>\n",
       "      <td>1</td>\n",
       "      <td>1</td>\n",
       "      <td>0</td>\n",
       "      <td>0</td>\n",
       "    </tr>\n",
       "    <tr>\n",
       "      <th>2</th>\n",
       "      <td>920</td>\n",
       "      <td>866</td>\n",
       "      <td>0</td>\n",
       "      <td>3</td>\n",
       "      <td>3</td>\n",
       "      <td>2</td>\n",
       "      <td>486.0</td>\n",
       "      <td>0.0</td>\n",
       "      <td>6</td>\n",
       "      <td>1</td>\n",
       "      <td>...</td>\n",
       "      <td>0</td>\n",
       "      <td>0</td>\n",
       "      <td>0</td>\n",
       "      <td>0</td>\n",
       "      <td>1</td>\n",
       "      <td>0</td>\n",
       "      <td>1</td>\n",
       "      <td>1</td>\n",
       "      <td>0</td>\n",
       "      <td>0</td>\n",
       "    </tr>\n",
       "    <tr>\n",
       "      <th>3</th>\n",
       "      <td>961</td>\n",
       "      <td>756</td>\n",
       "      <td>0</td>\n",
       "      <td>3</td>\n",
       "      <td>4</td>\n",
       "      <td>1</td>\n",
       "      <td>216.0</td>\n",
       "      <td>0.0</td>\n",
       "      <td>5</td>\n",
       "      <td>1</td>\n",
       "      <td>...</td>\n",
       "      <td>0</td>\n",
       "      <td>0</td>\n",
       "      <td>0</td>\n",
       "      <td>0</td>\n",
       "      <td>1</td>\n",
       "      <td>0</td>\n",
       "      <td>1</td>\n",
       "      <td>1</td>\n",
       "      <td>0</td>\n",
       "      <td>0</td>\n",
       "    </tr>\n",
       "    <tr>\n",
       "      <th>4</th>\n",
       "      <td>1145</td>\n",
       "      <td>1053</td>\n",
       "      <td>0</td>\n",
       "      <td>4</td>\n",
       "      <td>3</td>\n",
       "      <td>3</td>\n",
       "      <td>655.0</td>\n",
       "      <td>0.0</td>\n",
       "      <td>6</td>\n",
       "      <td>1</td>\n",
       "      <td>...</td>\n",
       "      <td>0</td>\n",
       "      <td>0</td>\n",
       "      <td>0</td>\n",
       "      <td>0</td>\n",
       "      <td>1</td>\n",
       "      <td>0</td>\n",
       "      <td>1</td>\n",
       "      <td>1</td>\n",
       "      <td>0</td>\n",
       "      <td>0</td>\n",
       "    </tr>\n",
       "  </tbody>\n",
       "</table>\n",
       "<p>5 rows × 244 columns</p>\n",
       "</div>"
      ],
      "text/plain": [
       "   1stFlrSF  2ndFlrSF  3SsnPorch  BedroomAbvGr  BsmtCond  BsmtExposure  \\\n",
       "0       856       854          0             3         3             1   \n",
       "1      1262         0          0             3         3             4   \n",
       "2       920       866          0             3         3             2   \n",
       "3       961       756          0             3         4             1   \n",
       "4      1145      1053          0             4         3             3   \n",
       "\n",
       "   BsmtFinSF1  BsmtFinSF2  BsmtFinType1  BsmtFinType2        ...         \\\n",
       "0       706.0         0.0             6             1        ...          \n",
       "1       978.0         0.0             5             1        ...          \n",
       "2       486.0         0.0             6             1        ...          \n",
       "3       216.0         0.0             5             1        ...          \n",
       "4       655.0         0.0             6             1        ...          \n",
       "\n",
       "   SaleType_ConLw  SaleType_NA  SaleType_New  SaleType_Oth  SaleType_WD  \\\n",
       "0               0            0             0             0            1   \n",
       "1               0            0             0             0            1   \n",
       "2               0            0             0             0            1   \n",
       "3               0            0             0             0            1   \n",
       "4               0            0             0             0            1   \n",
       "\n",
       "   Street_Grvl  Street_Pave  Utilities_AllPub  Utilities_NA  Utilities_NoSeWa  \n",
       "0            0            1                 1             0                 0  \n",
       "1            0            1                 1             0                 0  \n",
       "2            0            1                 1             0                 0  \n",
       "3            0            1                 1             0                 0  \n",
       "4            0            1                 1             0                 0  \n",
       "\n",
       "[5 rows x 244 columns]"
      ]
     },
     "execution_count": 19,
     "metadata": {},
     "output_type": "execute_result"
    }
   ],
   "source": [
    "df.head()"
   ]
  },
  {
   "cell_type": "markdown",
   "metadata": {
    "collapsed": true
   },
   "source": [
    "#### Engineering <a name=\"engineering\"></a>\n",
    "\n",
    "Perhaps a loose definition of engineering, but in this section I'm looking to create new features from the existing ones. "
   ]
  },
  {
   "cell_type": "code",
   "execution_count": 20,
   "metadata": {
    "collapsed": true
   },
   "outputs": [],
   "source": [
    "# Total prime living space - indoor, proper space\n",
    "df['TotalSF'] = df['1stFlrSF'] + df['2ndFlrSF']\n",
    "\n",
    "# Total 'sub-prime' living space - outdoors + basements etc.\n",
    "df['AltTotalSF'] = df['TotalBsmtSF'] + df['ScreenPorch'] + df['WoodDeckSF'] + df['OpenPorchSF'] + df['EnclosedPorch']\\\n",
    "                   + df['GarageArea'] + df['LowQualFinSF']"
   ]
  },
  {
   "cell_type": "markdown",
   "metadata": {},
   "source": [
    "For the date variables, convert them to the difference in years between each feature and YrSold."
   ]
  },
  {
   "cell_type": "code",
   "execution_count": 21,
   "metadata": {
    "collapsed": true
   },
   "outputs": [],
   "source": [
    "date_numericals.remove('YrSold')\n",
    "for date_col in date_numericals:\n",
    "    df[date_col] = df['YrSold'] - df[date_col]\n",
    "\n",
    "# Create a Boolean of those properties that have had work done\n",
    "df['RemodelledFlag'] = df['YearBuilt'] != df['YearRemodAdd']"
   ]
  },
  {
   "cell_type": "markdown",
   "metadata": {},
   "source": [
    "#### Outliers <a name=\"outliers\"></a>\n",
    "\n",
    "This is a regression problem, so we want to check it there are any major outliers in the target variable. If we find some, which we probably will, it is best to delete them so the model doesn't overfit to them. This is essentially admitting a limitation of machine learning in that in can only learn the general case, and is by nature unable to predict outlying data that doesn't follow any trends."
   ]
  },
  {
   "cell_type": "code",
   "execution_count": 22,
   "metadata": {},
   "outputs": [
    {
     "data": {
      "image/png": "[encoded data removed]",
      "text/plain": [
       "<matplotlib.figure.Figure at 0x1a1614d2e8>"
      ]
     },
     "metadata": {},
     "output_type": "display_data"
    }
   ],
   "source": [
    "# Guess the most important feature just to break the data out:\n",
    "fig, ax = plt.subplots(1, 1, figsize=[6, 4])\n",
    "ax.scatter(df['TotalSF'], df['SalePrice'])\n",
    "ax.set_xlabel('Total area (feet^2)')\n",
    "ax.set_ylabel('Sale price ($)')\n",
    "plt.show()"
   ]
  },
  {
   "cell_type": "markdown",
   "metadata": {},
   "source": [
    "So I would probably say there are 4 outliers here. There are two in the lower right that do not follow the trend at all, and there are two in the top right. These two seem to follow the linear relationship here, but they are so far away from the rest of the data that I worry they might be outliers with respect to other features. Off with their heads!"
   ]
  },
  {
   "cell_type": "code",
   "execution_count": 23,
   "metadata": {},
   "outputs": [
    {
     "name": "stdout",
     "output_type": "stream",
     "text": [
      "Shape before outlier removal:\t(2919, 247)\n",
      "Shape after outlier removal:\t(2914, 247)\n"
     ]
    }
   ],
   "source": [
    "print('Shape before outlier removal:\\t{}'.format(df.shape))\n",
    "df = df[df['TotalSF'] < 4000]  # The outliers are basically just the massive houses\n",
    "print('Shape after outlier removal:\\t{}'.format(df.shape))"
   ]
  },
  {
   "cell_type": "markdown",
   "metadata": {},
   "source": [
    "#### Transformations <a name=\"transformations\"></a>\n",
    "\n",
    "Here, I will be looking to correct the skew in the distribution of the continuous features including the target variable."
   ]
  },
  {
   "cell_type": "code",
   "execution_count": 24,
   "metadata": {
    "collapsed": true
   },
   "outputs": [],
   "source": [
    "skew_array = skew(df[continuous_feats].fillna(df[continuous_feats].median()), axis=0)\n",
    "skew_df = pd.DataFrame({'column': continuous_feats, 'skew': skew_array}).sort_values(by='skew', ascending=False)"
   ]
  },
  {
   "cell_type": "markdown",
   "metadata": {},
   "source": [
    "Have a look at the worst ones. Seems like the biggest source of skew is having values that are mostly 0."
   ]
  },
  {
   "cell_type": "code",
   "execution_count": null,
   "metadata": {},
   "outputs": [
    {
     "data": {
      "image/png": "[encoded data removed]",
      "text/plain": [
       "<matplotlib.figure.Figure at 0x1a1643c710>"
      ]
     },
     "metadata": {},
     "output_type": "display_data"
    }
   ],
   "source": [
    "fig, axs = plt.subplots(2, 2, figsize=[13, 8])\n",
    "i = 0\n",
    "for ax in axs.ravel():\n",
    "    sns.distplot(df[skew_df.iloc[i, 0]], ax=ax)\n",
    "    ax.set_title(skew_df.iloc[i, 0])\n",
    "    i += 1\n",
    "plt.tight_layout()\n",
    "plt.show()"
   ]
  },
  {
   "cell_type": "code",
   "execution_count": null,
   "metadata": {
    "collapsed": true
   },
   "outputs": [],
   "source": [
    "df[continuous_feats] = np.log1p(df[continuous_feats].fillna(df[continuous_feats].median()))"
   ]
  },
  {
   "cell_type": "code",
   "execution_count": null,
   "metadata": {},
   "outputs": [],
   "source": [
    "new_skew_array = skew(df[continuous_feats].fillna(df[continuous_feats].median()), axis=0)\n",
    "new_skew_df = pd.DataFrame({'column': continuous_feats, 'skew': new_skew_array})\\\n",
    "              .sort_values(by='skew', ascending=False)\n",
    "fig, axs = plt.subplots(2, 2, figsize=[13, 8])\n",
    "i = 0\n",
    "for ax in axs.ravel():\n",
    "    sns.distplot(df[skew_df.iloc[i, 0]], ax=ax)\n",
    "    ax.set_title(skew_df.iloc[i, 0])\n",
    "    i += 1\n",
    "plt.tight_layout()\n",
    "plt.show()"
   ]
  },
  {
   "cell_type": "markdown",
   "metadata": {},
   "source": [
    "So log transformation doesn't fix the mostly zeros columns, but does help otherwise. This raises the issue of low-variance features - should they be dropped due to not providing rich information whilst increasing the dimensionality?"
   ]
  },
  {
   "cell_type": "markdown",
   "metadata": {},
   "source": [
    "#### Scaling <a name=\"transformations\"></a>\n",
    "\n",
    "To give myself the option of using non-tree methods (e.g. linear models or neural nets), I want to scale my features such that they are all of the same magnitude. This will prevent any feature gaining inaccurate training weight just on account of it being big numbers.\n",
    "\n",
    "To do so I will just use standard scaling: scale to a mean of 0 and standard deviation of 1. As per, sklearn has a tidy class for this."
   ]
  },
  {
   "cell_type": "code",
   "execution_count": null,
   "metadata": {
    "collapsed": true
   },
   "outputs": [],
   "source": [
    "y = df.pop('SalePrice')  # No point scaling the label really (although it wouldn't hurt\n",
    "y = y[df['train_set'] == df['train_set'].max()]"
   ]
  },
  {
   "cell_type": "code",
   "execution_count": null,
   "metadata": {},
   "outputs": [],
   "source": [
    "scaler = StandardScaler()\n",
    "scaled_df = pd.DataFrame(data=scaler.fit_transform(df[df.columns]),\n",
    "                         columns=df.columns)\n",
    "scaled_df.head()"
   ]
  },
  {
   "cell_type": "markdown",
   "metadata": {},
   "source": [
    "So... I think that leaves the dataset in an OK place for now - we'll see what happens when I try and fit a model to it!"
   ]
  },
  {
   "cell_type": "markdown",
   "metadata": {},
   "source": [
    "### Model Building <a name=\"modelling\"></a>\n",
    "\n",
    "Time to try and make some predictions. I aim to apply three of the most popular types of model and stack them:\n",
    "\n",
    "1. A linear regression - Simple, understandable and a good stack component\n",
    "2. Gradient boosted trees - Powerful, verstaile and often have simple APIs\n",
    "3. A deep neural net - Also powerful and a good foil to GBTs due to different solution mechanisms\n",
    "\n",
    "Before I train any models however, I need to re-separate my data set:"
   ]
  },
  {
   "cell_type": "code",
   "execution_count": null,
   "metadata": {
    "collapsed": true
   },
   "outputs": [],
   "source": [
    "train_df = df[df['train_set'] == df['train_set'].max()].copy()\n",
    "test_df = df[df['train_set'] == df['train_set'].min()].copy()\n",
    "for dataset in [train_df, test_df]:\n",
    "    dataset.drop('train_set', axis=1, inplace=True)"
   ]
  },
  {
   "cell_type": "markdown",
   "metadata": {},
   "source": [
    "I also want to define a scoring metric. Makes sense to use the error metric used in the leaderboard for this competition which is root mean squared logarithmic error. There isn't a prebuilt sklearn function for this, but with help from [jpophan91's](https://www.kaggle.com/jpopham91/rmlse-vectorized) kernel I can define it below:"
   ]
  },
  {
   "cell_type": "code",
   "execution_count": null,
   "metadata": {
    "collapsed": true
   },
   "outputs": [],
   "source": [
    "def rmsle(y_true, y_pred):\n",
    "    assert len(y_pred) == len(y_true), 'Input arrays different lengths'\n",
    "    return np.sqrt(np.mean(np.power(np.log1p(y_pred) - np.log1p(y_true), 2)))"
   ]
  },
  {
   "cell_type": "code",
   "execution_count": null,
   "metadata": {
    "collapsed": true
   },
   "outputs": [],
   "source": [
    "rmsle_score = make_scorer(rmsle)"
   ]
  },
  {
   "cell_type": "markdown",
   "metadata": {},
   "source": [
    "##### Linear regression - scikit learn API <a name=\"linear\"></a>\n",
    "\n",
    "There isn't a huge amount to do in fitting a linear regression; the only thing I want to really examine is whether regularisation will be big help. I'll compare the CV scores of normal, ridge, lasso and elastic net regressions."
   ]
  },
  {
   "cell_type": "code",
   "execution_count": null,
   "metadata": {},
   "outputs": [],
   "source": [
    "regressions_to_try = [LinearRegression(), Ridge(), Lasso(), ElasticNet()]\n",
    "preds_list = []\n",
    "for model in regressions_to_try:\n",
    "    scores = cross_validate(model, train_df, y, cv=3, scoring=rmsle_score, return_train_score=False)\n",
    "    preds_list.append(cross_val_predict(lin, train_df, y, cv=3))\n",
    "    print('{} RSMLE loss = {:.4f}'.format(type(model), scores['test_score'].mean()))"
   ]
  },
  {
   "cell_type": "markdown",
   "metadata": {},
   "source": [
    "So ridge seems to perform the best, at least without any tuning of the regularisation parameters (alpha values). I'm going to just stick with ridge then as my linear model unless I come back later to optimise."
   ]
  },
  {
   "cell_type": "markdown",
   "metadata": {},
   "source": [
    "At this stage, let's have a quick look at a plot of predicted vs. actual values to see if there is anything odd happening."
   ]
  },
  {
   "cell_type": "code",
   "execution_count": null,
   "metadata": {},
   "outputs": [],
   "source": [
    "fig, (ax, ax1) = plt.subplots(1, 2, figsize=[15,5])\n",
    "\n",
    "ax.scatter(y, preds_list[1], label='Ridge predictions')\n",
    "ax1.scatter(y, preds_list[3], label='Elastic net predictions')\n",
    "\n",
    "for axs in (ax, ax1):\n",
    "    axs.plot([0, max(preds_list[1])], [0, max(y)], label='y = x', color='k', linestyle='--')\n",
    "    axs.set_xlabel('Prediction value ($)')\n",
    "    axs.set_ylabel('Actual value ($)')\n",
    "    axs.legend()\n",
    "\n",
    "plt.show()"
   ]
  },
  {
   "cell_type": "markdown",
   "metadata": {},
   "source": [
    "##### Gradient boosted trees - LightGBM <a name=\"lightgbm\"></a>"
   ]
  },
  {
   "cell_type": "code",
   "execution_count": null,
   "metadata": {
    "collapsed": true
   },
   "outputs": [],
   "source": []
  }
 ],
 "metadata": {
  "kernelspec": {
   "display_name": "Python 3",
   "language": "python",
   "name": "python3"
  },
  "language_info": {
   "codemirror_mode": {
    "name": "ipython",
    "version": 3
   },
   "file_extension": ".py",
   "mimetype": "text/x-python",
   "name": "python",
   "nbconvert_exporter": "python",
   "pygments_lexer": "ipython3",
   "version": "3.6.3"
  },
  "varInspector": {
   "cols": {
    "lenName": 16,
    "lenType": 16,
    "lenVar": 40
   },
   "kernels_config": {
    "python": {
     "delete_cmd_postfix": "",
     "delete_cmd_prefix": "del ",
     "library": "var_list.py",
     "varRefreshCmd": "print(var_dic_list())"
    },
    "r": {
     "delete_cmd_postfix": ") ",
     "delete_cmd_prefix": "rm(",
     "library": "var_list.r",
     "varRefreshCmd": "cat(var_dic_list()) "
    }
   },
   "types_to_exclude": [
    "module",
    "function",
    "builtin_function_or_method",
    "instance",
    "_Feature"
   ],
   "window_display": false
  }
 },
 "nbformat": 4,
 "nbformat_minor": 2
}
