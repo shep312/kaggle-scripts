{
 "cells": [
  {
   "cell_type": "code",
   "execution_count": 107,
   "metadata": {
    "_cell_guid": "d120c769-304b-47c3-b491-8750f5592225",
    "_uuid": "117dcb95800acf118631a3002b932dcc356519b0",
    "collapsed": true
   },
   "outputs": [],
   "source": [
    "import pandas as pd\n",
    "import numpy as np\n",
    "import seaborn as sns\n",
    "import matplotlib.pyplot as plt\n",
    "import lightgbm as lgbm\n",
    "from sklearn.model_selection import train_test_split\n",
    "from sklearn.preprocessing import LabelEncoder\n",
    "from sklearn.metrics import accuracy_score, recall_score, precision_score, f1_score\n",
    "%matplotlib inline"
   ]
  },
  {
   "cell_type": "markdown",
   "metadata": {
    "_cell_guid": "efda3bb3-ab54-4fad-a33a-d7467d22afa6",
    "_uuid": "0c9ee29ab3b61ebebd4118a655bd61f4b4c9b644"
   },
   "source": [
    "# An implementation of LightGBM for the Titanic problem\n",
    "\n",
    "Using LightGBM's python API to predict Titanic survival.\n",
    "\n",
    "First step is to load the provided train and test sets:"
   ]
  },
  {
   "cell_type": "code",
   "execution_count": 88,
   "metadata": {
    "_cell_guid": "0e19b3ff-06d7-49e2-9ecc-a1fd55dbd062",
    "_uuid": "be076ef24c07f8f2dd0e6b0b72fa47b48dd9a78f"
   },
   "outputs": [
    {
     "name": "stdout",
     "output_type": "stream",
     "text": [
      "Train shape:\t891 rows, 12 cols\n",
      "Test shape:\t418 rows, 11 cols\n"
     ]
    }
   ],
   "source": [
    "train_df = pd.read_csv('../input/train.csv')\n",
    "test_df = pd.read_csv('../input/test.csv')\n",
    "print('Train shape:\\t{} rows, {} cols\\nTest shape:\\t{} rows, {} cols'.format(train_df.shape[0], train_df.shape[1],\n",
    "                                                                             test_df.shape[0], test_df.shape[1]))"
   ]
  },
  {
   "cell_type": "code",
   "execution_count": 89,
   "metadata": {},
   "outputs": [
    {
     "data": {
      "text/plain": [
       "['Survived']"
      ]
     },
     "execution_count": 89,
     "metadata": {},
     "output_type": "execute_result"
    }
   ],
   "source": [
    "mismatched_cols = [x for x in train_df.columns if x not in test_df.columns]\n",
    "mismatched_cols"
   ]
  },
  {
   "cell_type": "markdown",
   "metadata": {},
   "source": [
    "Stack the two datasets so that we can pre-process them as one. To do that, separate the label now."
   ]
  },
  {
   "cell_type": "code",
   "execution_count": 90,
   "metadata": {
    "collapsed": true
   },
   "outputs": [],
   "source": [
    "y = train_df.pop('Survived')\n",
    "train_df['dataset_label'] = 'train'\n",
    "test_df['dataset_label'] = 'test'\n",
    "df = train_df.append(test_df)"
   ]
  },
  {
   "cell_type": "markdown",
   "metadata": {
    "_cell_guid": "f1d14c31-7ad8-4103-ac14-32a7fd324d43",
    "_uuid": "67cde09df6ce837d17099adaa045197b22e6d17e"
   },
   "source": [
    "### Feature engineering\n",
    "\n",
    "- Add any extra features that may be handy\n",
    "- Encode and categoricals stores as strings\n",
    "- Drop features that look difficult to get use out of\n",
    "\n",
    "Want to make sure that everything I do to the training set happens to the test, so makes sense to run as a loop "
   ]
  },
  {
   "cell_type": "code",
   "execution_count": 91,
   "metadata": {
    "collapsed": true
   },
   "outputs": [],
   "source": [
    "# Not sure passenger ID is useful as a feature, but need to save it from the test set for the submission\n",
    "all_passenger_ids = df.pop('PassengerId')\n",
    "test_passenger_ids = all_passenger_ids[df['dataset_label'] == 'test']"
   ]
  },
  {
   "cell_type": "code",
   "execution_count": 92,
   "metadata": {
    "collapsed": true
   },
   "outputs": [],
   "source": [
    "# Extract titles from the name feature if possible\n",
    "df['Title'] = 'Other'\n",
    "common_titles = ['Master', 'Mr', 'Miss', 'Mrs', 'Dr']\n",
    "for title in common_titles:\n",
    "    df.loc[df['Name'].str.contains(title), 'Title'] = title"
   ]
  },
  {
   "cell_type": "code",
   "execution_count": 109,
   "metadata": {},
   "outputs": [
    {
     "data": {
      "text/plain": [
       "<matplotlib.axes._subplots.AxesSubplot at 0x1a1d3a4d68>"
      ]
     },
     "execution_count": 109,
     "metadata": {},
     "output_type": "execute_result"
    },
    {
     "data": {
      "image/png": "[encoded data removed]",
      "text/plain": [
       "<matplotlib.figure.Figure at 0x1a1d382b38>"
      ]
     },
     "metadata": {},
     "output_type": "display_data"
    }
   ],
   "source": [
    "sns.distplot(df['Age'].fillna(df['Age'].median()))"
   ]
  },
  {
   "cell_type": "code",
   "execution_count": 93,
   "metadata": {},
   "outputs": [],
   "source": [
    "# Features to drop - too many nulls or not useful\n",
    "features_to_drop = ['Name', 'Ticket', 'Cabin']\n",
    "\n",
    "# Record anyone travelling alone\n",
    "df['Alone'] = (df['SibSp'] == 0) & (df['Parch'] == 0)\n",
    "\n",
    "# Categorical features. Take the object dtypes and add any others hiding as numbers\n",
    "categorical_feats = [x for x in df.columns[df.dtypes == 'object'].tolist() \\\n",
    "                    if (x not in features_to_drop) and (x != 'dataset_label')]\n",
    "categorical_feats += ['SibSp', 'Parch']"
   ]
  },
  {
   "cell_type": "code",
   "execution_count": 94,
   "metadata": {},
   "outputs": [
    {
     "name": "stdout",
     "output_type": "stream",
     "text": [
      "Encoding categorical feature Sex\n",
      "Encoding categorical feature Embarked\n",
      "Encoding categorical feature SibSp\n",
      "Encoding categorical feature Parch\n"
     ]
    }
   ],
   "source": [
    "# Label encode the categoricals\n",
    "for feat in categorical_feats:\n",
    "    print('Encoding categorical feature {}'.format(feat))\n",
    "    encoder = LabelEncoder()\n",
    "    df[feat] = encoder.fit_transform(df[feat].fillna('Null'))"
   ]
  },
  {
   "cell_type": "code",
   "execution_count": 95,
   "metadata": {
    "_cell_guid": "f2e49c9c-b3ed-4fe4-a03a-9fea97eed707",
    "_uuid": "eb2ae68badb0920eb061ddf83d445bd47ee40751"
   },
   "outputs": [],
   "source": [
    "# Drop features that seem unusable. Save passenger ids if test\n",
    "df.drop(features_to_drop, axis=1, inplace=True)"
   ]
  },
  {
   "cell_type": "code",
   "execution_count": 96,
   "metadata": {},
   "outputs": [
    {
     "data": {
      "text/html": [
       "<div>\n",
       "<style>\n",
       "    .dataframe thead tr:only-child th {\n",
       "        text-align: right;\n",
       "    }\n",
       "\n",
       "    .dataframe thead th {\n",
       "        text-align: left;\n",
       "    }\n",
       "\n",
       "    .dataframe tbody tr th {\n",
       "        vertical-align: top;\n",
       "    }\n",
       "</style>\n",
       "<table border=\"1\" class=\"dataframe\">\n",
       "  <thead>\n",
       "    <tr style=\"text-align: right;\">\n",
       "      <th></th>\n",
       "      <th>Pclass</th>\n",
       "      <th>Sex</th>\n",
       "      <th>Age</th>\n",
       "      <th>SibSp</th>\n",
       "      <th>Parch</th>\n",
       "      <th>Fare</th>\n",
       "      <th>Embarked</th>\n",
       "      <th>dataset_label</th>\n",
       "      <th>Alone</th>\n",
       "    </tr>\n",
       "  </thead>\n",
       "  <tbody>\n",
       "    <tr>\n",
       "      <th>0</th>\n",
       "      <td>3</td>\n",
       "      <td>1</td>\n",
       "      <td>22.0</td>\n",
       "      <td>1</td>\n",
       "      <td>0</td>\n",
       "      <td>7.2500</td>\n",
       "      <td>3</td>\n",
       "      <td>train</td>\n",
       "      <td>False</td>\n",
       "    </tr>\n",
       "    <tr>\n",
       "      <th>1</th>\n",
       "      <td>1</td>\n",
       "      <td>0</td>\n",
       "      <td>38.0</td>\n",
       "      <td>1</td>\n",
       "      <td>0</td>\n",
       "      <td>71.2833</td>\n",
       "      <td>0</td>\n",
       "      <td>train</td>\n",
       "      <td>False</td>\n",
       "    </tr>\n",
       "    <tr>\n",
       "      <th>2</th>\n",
       "      <td>3</td>\n",
       "      <td>0</td>\n",
       "      <td>26.0</td>\n",
       "      <td>0</td>\n",
       "      <td>0</td>\n",
       "      <td>7.9250</td>\n",
       "      <td>3</td>\n",
       "      <td>train</td>\n",
       "      <td>True</td>\n",
       "    </tr>\n",
       "    <tr>\n",
       "      <th>3</th>\n",
       "      <td>1</td>\n",
       "      <td>0</td>\n",
       "      <td>35.0</td>\n",
       "      <td>1</td>\n",
       "      <td>0</td>\n",
       "      <td>53.1000</td>\n",
       "      <td>3</td>\n",
       "      <td>train</td>\n",
       "      <td>False</td>\n",
       "    </tr>\n",
       "    <tr>\n",
       "      <th>4</th>\n",
       "      <td>3</td>\n",
       "      <td>1</td>\n",
       "      <td>35.0</td>\n",
       "      <td>0</td>\n",
       "      <td>0</td>\n",
       "      <td>8.0500</td>\n",
       "      <td>3</td>\n",
       "      <td>train</td>\n",
       "      <td>True</td>\n",
       "    </tr>\n",
       "  </tbody>\n",
       "</table>\n",
       "</div>"
      ],
      "text/plain": [
       "   Pclass  Sex   Age  SibSp  Parch     Fare  Embarked dataset_label  Alone\n",
       "0       3    1  22.0      1      0   7.2500         3         train  False\n",
       "1       1    0  38.0      1      0  71.2833         0         train  False\n",
       "2       3    0  26.0      0      0   7.9250         3         train   True\n",
       "3       1    0  35.0      1      0  53.1000         3         train  False\n",
       "4       3    1  35.0      0      0   8.0500         3         train   True"
      ]
     },
     "execution_count": 96,
     "metadata": {},
     "output_type": "execute_result"
    }
   ],
   "source": [
    "# Take a glance at the final dataset\n",
    "df.head()"
   ]
  },
  {
   "cell_type": "markdown",
   "metadata": {
    "_cell_guid": "89c73e20-547b-4e5c-96fa-6a5315206e5a",
    "_uuid": "9954df056296adc045381bf13f4c9c5cf3d431e4"
   },
   "source": [
    "### Prep the training set for learning"
   ]
  },
  {
   "cell_type": "code",
   "execution_count": 97,
   "metadata": {
    "collapsed": true
   },
   "outputs": [],
   "source": [
    "# Re-separate the dataset\n",
    "train_df = df[df['dataset_label'] == 'train'].copy()\n",
    "test_df = df[df['dataset_label'] == 'test'].copy()\n",
    "for df in [train_df, test_df]:\n",
    "    df.drop('dataset_label', axis=1, inplace=True)"
   ]
  },
  {
   "cell_type": "code",
   "execution_count": 98,
   "metadata": {
    "_cell_guid": "1274f254-d769-408b-99b8-7bd929ca6882",
    "_uuid": "240c379180a19cb4ce558429fbe8843aadc98a5f",
    "collapsed": true
   },
   "outputs": [],
   "source": [
    "# Create an LGBM dataset for training\n",
    "train_data = lgbm.Dataset(data=train_df, label=y, categorical_feature=categorical_feats, free_raw_data=False)"
   ]
  },
  {
   "cell_type": "markdown",
   "metadata": {
    "_cell_guid": "d66765f7-5e2d-4136-bb15-8d2837a42714",
    "_uuid": "f7ea3b59684b5f46a650e94b2ec51294f7886895"
   },
   "source": [
    "### Define hyperparameters for LGBM\n",
    "\n",
    "Hyperparamters will be important - particularly given how small this data set is. I tuned them through cross-validation, trying to maximise accuracy as defined in the next code block"
   ]
  },
  {
   "cell_type": "code",
   "execution_count": 99,
   "metadata": {
    "_cell_guid": "1996b68f-c614-41a3-9e41-8d64acacd8d6",
    "_uuid": "1767b8459bf53a5cd7bcaf90ec4be28610a6f6d2",
    "collapsed": true
   },
   "outputs": [],
   "source": [
    "lgbm_params = {\n",
    "    'boosting': 'dart',          # dart (drop out trees) often performs better\n",
    "    'application': 'binary',     # Binary classification\n",
    "    'learning_rate': 0.05,       # Learning rate, controls size of a gradient descent step\n",
    "    'min_data_in_leaf': 10,      # Data set is quite small so reduce this a bit\n",
    "    'feature_fraction': 0.7,     # Proportion of features in each boost, controls overfitting\n",
    "    'num_leaves': 31,            # Controls size of tree since LGBM uses leaf wise splits\n",
    "    'drop_rate': 0.15            # Every n boosting rounds, drop a tree\n",
    "              }"
   ]
  },
  {
   "cell_type": "markdown",
   "metadata": {},
   "source": [
    "Define classification accuracy as the evaluation metric for cross-validation. Using this instead of usually logloss or AUC simply becuase it is how Kaggle evaluates the result - may as well measure in the same way. Note I would usually not advocate accuracy as the sole classification measure!"
   ]
  },
  {
   "cell_type": "code",
   "execution_count": 100,
   "metadata": {
    "collapsed": true
   },
   "outputs": [],
   "source": [
    "def classification_accuracy(preds, train_data):\n",
    "    labels = train_data.get_label()\n",
    "    return 'accuracy', np.mean(labels == (preds > 0.5)), True"
   ]
  },
  {
   "cell_type": "markdown",
   "metadata": {
    "_cell_guid": "e946d2ed-991c-41f3-889d-fcc86b0256af",
    "_uuid": "ba1b8b3a355f5b5379daab7c9ee9b656d9879a95"
   },
   "source": [
    "### Cross validate\n",
    "\n",
    "Use CV to tweak the hyperparameters then train when happy with them"
   ]
  },
  {
   "cell_type": "code",
   "execution_count": 101,
   "metadata": {
    "_cell_guid": "29246c91-37d8-4317-a88c-5c5b2384bbaf",
    "_uuid": "04a0d2dccc99bf687c22c547f1dd1a2e86af5824"
   },
   "outputs": [
    {
     "name": "stderr",
     "output_type": "stream",
     "text": [
      "/Users/jamesshepherd413/anaconda3/lib/python3.6/site-packages/lightgbm/basic.py:1005: UserWarning: Using categorical_feature in Dataset.\n",
      "  warnings.warn('Using categorical_feature in Dataset.')\n"
     ]
    },
    {
     "name": "stdout",
     "output_type": "stream",
     "text": [
      "[20]\tcv_agg's accuracy: 0.810392 + 0.0297093\n",
      "[40]\tcv_agg's accuracy: 0.820486 + 0.0277249\n",
      "[60]\tcv_agg's accuracy: 0.827215 + 0.0234681\n",
      "[80]\tcv_agg's accuracy: 0.826085 + 0.0234183\n",
      "[100]\tcv_agg's accuracy: 0.826079 + 0.0212286\n",
      "[120]\tcv_agg's accuracy: 0.821623 + 0.0207657\n",
      "[140]\tcv_agg's accuracy: 0.826117 + 0.0237414\n"
     ]
    }
   ],
   "source": [
    "cv_results = lgbm.cv(train_set=train_data,\n",
    "                     params=lgbm_params,\n",
    "                     nfold=5,\n",
    "                     num_boost_round=500,\n",
    "                     early_stopping_rounds=100,\n",
    "                     verbose_eval=20,\n",
    "                     feval=classification_accuracy)"
   ]
  },
  {
   "cell_type": "markdown",
   "metadata": {},
   "source": [
    "Use CV results to get the best boosting round and train."
   ]
  },
  {
   "cell_type": "code",
   "execution_count": 102,
   "metadata": {},
   "outputs": [
    {
     "name": "stdout",
     "output_type": "stream",
     "text": [
      "Best result was 0.8317 from boosting round 50\n"
     ]
    }
   ],
   "source": [
    "optimum_boost_rounds = np.argmax(cv_results['accuracy-mean'])\n",
    "print('Best result was {:.4f} from boosting round {}'.format(cv_results['accuracy-mean'][optimum_boost_rounds],\n",
    "                                                             optimum_boost_rounds))"
   ]
  },
  {
   "cell_type": "code",
   "execution_count": 103,
   "metadata": {},
   "outputs": [
    {
     "name": "stderr",
     "output_type": "stream",
     "text": [
      "/Users/jamesshepherd413/anaconda3/lib/python3.6/site-packages/lightgbm/basic.py:1005: UserWarning: Using categorical_feature in Dataset.\n",
      "  warnings.warn('Using categorical_feature in Dataset.')\n"
     ]
    }
   ],
   "source": [
    "clf = lgbm.train(train_set=train_data,\n",
    "                 params=lgbm_params,\n",
    "                 num_boost_round=optimum_boost_rounds)"
   ]
  },
  {
   "cell_type": "markdown",
   "metadata": {
    "_cell_guid": "e81374b5-6dd5-47a1-b06c-8f7d60dfc89b",
    "_uuid": "aaba53af1283fc35dad87698ed9f10aa877292fb"
   },
   "source": [
    "### Visualise training performance"
   ]
  },
  {
   "cell_type": "code",
   "execution_count": 104,
   "metadata": {
    "_cell_guid": "1398e2f3-ad6f-41a4-b666-c613c4b073cc",
    "_uuid": "d885fe78f705a0a831d3f074233c11ec7617d62d"
   },
   "outputs": [
    {
     "data": {
      "image/png": "[encoded data removed]",
      "text/plain": [
       "<matplotlib.figure.Figure at 0x1a1c876550>"
      ]
     },
     "metadata": {},
     "output_type": "display_data"
    }
   ],
   "source": [
    "fig, axs = plt.subplots(1, 2, figsize=[15, 4])\n",
    "\n",
    "# Plot the log loss during training\n",
    "axs[0].plot(cv_results['accuracy-mean'], label='Accuracy score')\n",
    "axs[0].set_ylabel('Accuracy')\n",
    "axs[0].set_xlabel('Boosting round')\n",
    "axs[0].set_title('CV performance')\n",
    "\n",
    "# Plot feature importance\n",
    "importances = pd.DataFrame({'features': clf.feature_name(), \n",
    "                            'importance': clf.feature_importance()}).sort_values('importance', ascending=False)\n",
    "axs[1].bar(x=np.arange(len(importances)), height=importances['importance'])\n",
    "axs[1].set_xticks(np.arange(len(importances)))\n",
    "axs[1].set_xticklabels(importances['features'])\n",
    "axs[1].set_ylabel('Feature importance (# times used to split)')\n",
    "axs[1].set_title('Feature importance')\n",
    "\n",
    "plt.show()"
   ]
  },
  {
   "cell_type": "markdown",
   "metadata": {
    "_cell_guid": "db5ef966-af72-4dfb-b29b-9a993ad7fc07",
    "_uuid": "43bd6fbe0691eeff8ee4cf8af4aefe8b3baf6000"
   },
   "source": [
    "### Make predictions on the test set\n",
    "\n",
    "Using the parameters optimised above, retrain on all the data so we don't miss anything. Then make predictions on the\n",
    "test set."
   ]
  },
  {
   "cell_type": "code",
   "execution_count": 105,
   "metadata": {
    "_cell_guid": "478d6f05-c8e2-4ebf-b125-7d31dc4c8d5a",
    "_uuid": "53c55c58e83df8ae8711e10e9a93c458656d4d1b"
   },
   "outputs": [],
   "source": [
    "y_pred = np.round(clf.predict(test_df)).astype(int)"
   ]
  },
  {
   "cell_type": "code",
   "execution_count": 106,
   "metadata": {
    "_cell_guid": "58ba556f-37f2-4c18-a9f6-cfca202951c3",
    "_uuid": "38b73ef70c31e5bec3b74f6b9ab6c35851df9f1d",
    "collapsed": true
   },
   "outputs": [],
   "source": [
    "output_df = pd.DataFrame({'PassengerId': test_passenger_ids, 'Survived': y_pred})\n",
    "\n",
    "# Output when local\n",
    "output_df.to_csv('../output/predictions.csv', index=False)"
   ]
  },
  {
   "cell_type": "code",
   "execution_count": null,
   "metadata": {
    "collapsed": true
   },
   "outputs": [],
   "source": []
  }
 ],
 "metadata": {
  "kernelspec": {
   "display_name": "Python 3",
   "language": "python",
   "name": "python3"
  },
  "language_info": {
   "codemirror_mode": {
    "name": "ipython",
    "version": 3
   },
   "file_extension": ".py",
   "mimetype": "text/x-python",
   "name": "python",
   "nbconvert_exporter": "python",
   "pygments_lexer": "ipython3",
   "version": "3.6.3"
  }
 },
 "nbformat": 4,
 "nbformat_minor": 1
}
