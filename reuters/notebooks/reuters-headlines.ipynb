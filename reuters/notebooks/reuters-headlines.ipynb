{
 "cells": [
  {
   "cell_type": "code",
   "execution_count": 42,
   "metadata": {},
   "outputs": [],
   "source": [
    "import glob\n",
    "import pandas as pd\n",
    "import vaderSentiment\n",
    "import seaborn as sns\n",
    "import matplotlib.pyplot as plt\n",
    "from wordcloud import WordCloud\n",
    "%matplotlib inline"
   ]
  },
  {
   "cell_type": "markdown",
   "metadata": {},
   "source": [
    "# Have I got news for you: Reuters headline analysis\n",
    "\n",
    "This kernel explores the great date set provided on [Kaggle](https://www.kaggle.com/therohk/reuters-news-wire-archive) by Rohk. The data set is simply a collection Reuter's headlines and a timestamp of their publication. I intend to work through it as follows:\n",
    "\n",
    "## Contents\n",
    "\n",
    "1. [Load input files](#input)\n",
    "2. [Word clouds](#clouds)"
   ]
  },
  {
   "cell_type": "markdown",
   "metadata": {},
   "source": [
    "## Load input files <a name=\"input\"></a>\n",
    "\n",
    "Input data is provided as a handful of .csvs, so use the glob package to find them all and read sequentially."
   ]
  },
  {
   "cell_type": "code",
   "execution_count": 43,
   "metadata": {},
   "outputs": [],
   "source": [
    "input_files = glob.glob('../input/*.csv')\n",
    "input_dfs = []\n",
    "for file in input_files:\n",
    "    df = pd.read_csv(file, nrows=1000)\n",
    "    input_dfs.append(df)\n",
    "df = pd.concat(input_dfs)"
   ]
  },
  {
   "cell_type": "markdown",
   "metadata": {},
   "source": [
    "OK loaded, so how much data do we have?"
   ]
  },
  {
   "cell_type": "code",
   "execution_count": 44,
   "metadata": {},
   "outputs": [
    {
     "name": "stdout",
     "output_type": "stream",
     "text": [
      "4148808 headlines from 201201010005 to 201712312352\n"
     ]
    },
    {
     "data": {
      "text/html": [
       "<div>\n",
       "<style>\n",
       "    .dataframe thead tr:only-child th {\n",
       "        text-align: right;\n",
       "    }\n",
       "\n",
       "    .dataframe thead th {\n",
       "        text-align: left;\n",
       "    }\n",
       "\n",
       "    .dataframe tbody tr th {\n",
       "        vertical-align: top;\n",
       "    }\n",
       "</style>\n",
       "<table border=\"1\" class=\"dataframe\">\n",
       "  <thead>\n",
       "    <tr style=\"text-align: right;\">\n",
       "      <th></th>\n",
       "      <th>publish_time</th>\n",
       "      <th>headline_text</th>\n",
       "    </tr>\n",
       "  </thead>\n",
       "  <tbody>\n",
       "    <tr>\n",
       "      <th>0</th>\n",
       "      <td>201201010005</td>\n",
       "      <td>Leap Year 2012 Calls for 'One More Disney Day'...</td>\n",
       "    </tr>\n",
       "    <tr>\n",
       "      <th>1</th>\n",
       "      <td>201201010014</td>\n",
       "      <td>MSG Leaves Time Warner Cable Sports Fans in th...</td>\n",
       "    </tr>\n",
       "    <tr>\n",
       "      <th>2</th>\n",
       "      <td>201201010040</td>\n",
       "      <td>Box Office - 'M - I - 4' Passes $100M Domestic...</td>\n",
       "    </tr>\n",
       "    <tr>\n",
       "      <th>3</th>\n",
       "      <td>201201010048</td>\n",
       "      <td>New York New Year</td>\n",
       "    </tr>\n",
       "    <tr>\n",
       "      <th>4</th>\n",
       "      <td>201201010053</td>\n",
       "      <td>Number of Ion Community Users Triples; Spurred...</td>\n",
       "    </tr>\n",
       "  </tbody>\n",
       "</table>\n",
       "</div>"
      ],
      "text/plain": [
       "   publish_time                                      headline_text\n",
       "0  201201010005  Leap Year 2012 Calls for 'One More Disney Day'...\n",
       "1  201201010014  MSG Leaves Time Warner Cable Sports Fans in th...\n",
       "2  201201010040  Box Office - 'M - I - 4' Passes $100M Domestic...\n",
       "3  201201010048                                  New York New Year\n",
       "4  201201010053  Number of Ion Community Users Triples; Spurred..."
      ]
     },
     "execution_count": 44,
     "metadata": {},
     "output_type": "execute_result"
    }
   ],
   "source": [
    "print('{} headlines from {} to {}'.format(len(df), min(df['publish_time']), max(df['publish_time'])))\n",
    "df.head()"
   ]
  },
  {
   "cell_type": "markdown",
   "metadata": {},
   "source": [
    "The dataset contains >4m headlines over 6 years, plenty to look through! Lets convert the *publish_time* feature to a pandas datetime to make it more usable. \n",
    "\n",
    "**Note** this may take a while due to the number of rows and datetime conversions can be slow."
   ]
  },
  {
   "cell_type": "code",
   "execution_count": 45,
   "metadata": {},
   "outputs": [],
   "source": [
    "df['publish_time'] = pd.to_datetime(df['publish_time'].astype(str), format='%Y%m%d%H%M')"
   ]
  },
  {
   "cell_type": "markdown",
   "metadata": {},
   "source": [
    "And we may as well have a look at the distribution of headlines over time to start with:"
   ]
  },
  {
   "cell_type": "code",
   "execution_count": 46,
   "metadata": {},
   "outputs": [
    {
     "data": {
      "image/png": "[encoded data removed]",
      "text/plain": [
       "<matplotlib.figure.Figure at 0x1a11dd3160>"
      ]
     },
     "metadata": {},
     "output_type": "display_data"
    }
   ],
   "source": [
    "fig, ax = plt.subplots(figsize=[12, 5])\n",
    "counts_by_year_month = df.groupby(df['publish_time'].dt.to_period('M'))['publish_time'].count()\n",
    "sns.barplot(x=counts_by_year_month.index, \n",
    "            y=counts_by_year_month,\n",
    "            ax=ax)\n",
    "ax.set_xlabel('Time of publication (year-month)')\n",
    "ax.set_ylabel('Number of publications')\n",
    "ax.set_title('Number of publications over time')\n",
    "plt.show()"
   ]
  },
  {
   "cell_type": "markdown",
   "metadata": {},
   "source": [
    "## Word clouds <a name=\"clouds\"></a>\n",
    "\n",
    "A favourite of any text analysis, lets plot some worldclouds to visualise the most popular words in the headlines. To make it a bit more interesting, I'll compare wordclouds from 2013 and 2017 to see if anything has changed."
   ]
  },
  {
   "cell_type": "code",
   "execution_count": null,
   "metadata": {},
   "outputs": [],
   "source": [
    "fig, (ax, ax1) = plt.subplots(1, 2, figsize=[15, 7])\n",
    "\n",
    "# Plot for 2013\n",
    "wc = WordCloud(width=500, height=400)\n",
    "wc.generate(' '.join(df.loc[df['publish_time'] < pd.Timestamp('2014-01-01'), 'headline_text'].astype(str)))\n",
    "ax.imshow(wc, interpolation='bilinear')\n",
    "ax.axis('off')\n",
    "ax.set_title('2013 Headlines')\n",
    "\n",
    "# Plot for 2017\n",
    "wc1 = WordCloud(width=500, height=400)\n",
    "wc1.generate(' '.join(df.loc[df['publish_time'] < pd.Timestamp('2014-01-01'), 'headline_text'].astype(str)))\n",
    "ax1.imshow(wc1, interpolation='bilinear')\n",
    "ax1.axis('off')\n",
    "ax1.set_title('2017 Headlines')\n",
    "\n",
    "plt.show()"
   ]
  },
  {
   "cell_type": "markdown",
   "metadata": {},
   "source": [
    "## Sentiment analysis"
   ]
  },
  {
   "cell_type": "code",
   "execution_count": null,
   "metadata": {
    "collapsed": true
   },
   "outputs": [],
   "source": []
  }
 ],
 "metadata": {
  "kernelspec": {
   "display_name": "Python 3",
   "language": "python",
   "name": "python3"
  },
  "language_info": {
   "codemirror_mode": {
    "name": "ipython",
    "version": 3
   },
   "file_extension": ".py",
   "mimetype": "text/x-python",
   "name": "python",
   "nbconvert_exporter": "python",
   "pygments_lexer": "ipython3",
   "version": "3.6.3"
  }
 },
 "nbformat": 4,
 "nbformat_minor": 2
}
